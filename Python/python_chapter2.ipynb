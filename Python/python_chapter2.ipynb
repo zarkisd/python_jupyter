{
 "cells": [
  {
   "cell_type": "code",
   "execution_count": 1,
   "metadata": {},
   "outputs": [
    {
     "name": "stdout",
     "output_type": "stream",
     "text": [
      "이름\t나이\t지역\n",
      "윤인성\t25\t강서구\n",
      "\\ \\ \\ \\\n"
     ]
    }
   ],
   "source": [
    "print(\"이름\\t나이\\t지역\")\n",
    "print(\"윤인성\\t25\\t강서구\")\n",
    "\n",
    "print(\"\\\\ \\\\ \\\\ \\\\\")\n",
    "\n"
   ]
  },
  {
   "cell_type": "code",
   "execution_count": 2,
   "metadata": {},
   "outputs": [
    {
     "name": "stdout",
     "output_type": "stream",
     "text": [
      "문자 선택 연산자에 대해서\n",
      "안\n",
      "녕\n",
      "하\n",
      "세\n",
      "요\n",
      "요\n",
      "세\n",
      "하\n",
      "녕\n"
     ]
    }
   ],
   "source": [
    "print(\"문자 선택 연산자에 대해서\")\n",
    "print(\"안녕하세요\"[0])\n",
    "print(\"안녕하세요\"[1])\n",
    "print(\"안녕하세요\"[2])\n",
    "print(\"안녕하세요\"[3])\n",
    "print(\"안녕하세요\"[4])\n",
    "print(\"안녕하세요\"[-1])\n",
    "print(\"안녕하세요\"[-2])\n",
    "print(\"안녕하세요\"[-3])\n",
    "print(\"안녕하세요\"[-4])"
   ]
  },
  {
   "cell_type": "markdown",
   "metadata": {},
   "source": [
    "#  2.1"
   ]
  },
  {
   "cell_type": "code",
   "execution_count": 3,
   "metadata": {},
   "outputs": [
    {
     "name": "stdout",
     "output_type": "stream",
     "text": [
      "# 연습문제 \n",
      "\\\\\\\\\\\\\\\\\\\\\\\\\\\\\\\\\\\\\\\\\\\\\\\\\\\\\\\\\\\\\\\\\\\\\\\\\\\\\\\\\\\\\\\\\n",
      "--------\n",
      "녕\n",
      "하\n",
      "세\n",
      "요\n",
      "녕하\n",
      "하세\n",
      "녕하세요\n",
      "안녕하\n"
     ]
    }
   ],
   "source": [
    "#3 \n",
    "print(\"# 연습문제 \")\n",
    "print(\"\\\\\\\\\\\\\\\\\\\\\\\\\\\\\\\")\n",
    "print(\"-\"*8)\n",
    "#4\n",
    "print(\"안녕하세요\"[1])\n",
    "print(\"안녕하세요\"[2])\n",
    "print(\"안녕하세요\"[3])\n",
    "print(\"안녕하세요\"[4])\n",
    "#print(\"안녕하세요\"[5])\n",
    "#5\n",
    "print(\"안녕하세요\"[1:3])\n",
    "print(\"안녕하세요\"[2:4])\n",
    "print(\"안녕하세요\"[1:])\n",
    "print(\"안녕하세요\"[:3])"
   ]
  },
  {
   "cell_type": "markdown",
   "metadata": {},
   "source": [
    "# 2.2"
   ]
  },
  {
   "cell_type": "code",
   "execution_count": 7,
   "metadata": {},
   "outputs": [
    {
     "name": "stdout",
     "output_type": "stream",
     "text": [
      "# 기본적인 연산\n",
      "15 + 4 = 19\n",
      "15 - 4 = 11\n",
      "15 * 4 = 60\n",
      "15 / 4 = 3.75\n",
      "\n",
      "3462를 17로 나누었을때의\n",
      "-몫 :  203\n",
      "-나머지 :  11\n",
      "\n",
      "0.0\n",
      "4.0\n"
     ]
    }
   ],
   "source": [
    "#3\n",
    "print(\"# 기본적인 연산\")\n",
    "print(15,\"+\", 4,\"=\", 15+4)\n",
    "print(15,\"-\", 4,\"=\", 15-4)\n",
    "print(15,\"*\", 4,\"=\", 15*4)\n",
    "print(15,\"/\", 4,\"=\", 15/4)\n",
    "print()\n",
    "#4\n",
    "print(\"3462를 17로 나누었을때의\")\n",
    "print(\"-몫 : \", 3462//17)\n",
    "print(\"-나머지 : \", 3462%17)\n",
    "print()\n",
    "#5\n",
    "print(2+2-2*2/2*2)\n",
    "print(2-2+2/2*2+2)"
   ]
  },
  {
   "cell_type": "markdown",
   "metadata": {},
   "source": [
    "# variable.py"
   ]
  },
  {
   "cell_type": "code",
   "execution_count": 3,
   "metadata": {},
   "outputs": [
    {
     "name": "stdout",
     "output_type": "stream",
     "text": [
      "원주율 = 3.14159265\n",
      "반지름 = 10\n",
      "원의 둘레 = 62.831853\n",
      "원의 넓이 = 314.159265\n",
      "입력 A > 15\n",
      "입력 B > 24\n",
      "문자열 자료 : 1524\n",
      "숫자 자료 : 39\n",
      "<class 'int'> 52\n",
      "<class 'float'> 52.273\n"
     ]
    }
   ],
   "source": [
    "pi=3.14159265\n",
    "r=10\n",
    "\n",
    "print(\"원주율 = {}\".format(pi))\n",
    "print(\"반지름 = {}\".format(r))\n",
    "print(\"원의 둘레 = {}\".format(2*pi*r))\n",
    "print(\"원의 넓이 = {}\".format(pi*(r**2)))\n",
    "\n",
    "string_a=input(\"입력 A > \")\n",
    "int_a=int(string_a)\n",
    "\n",
    "string_b=input(\"입력 B > \")\n",
    "int_b=int(string_b)\n",
    "\n",
    "print(\"문자열 자료 : {}\".format(string_a+string_b))\n",
    "print(\"숫자 자료 : {}\".format(int_a+int_b))\n",
    "\n",
    "output_a=int(\"52\")\n",
    "output_b=float(\"52.273\")\n",
    "\n",
    "print(type(output_a), output_a)\n",
    "print(type(output_b), output_b)"
   ]
  },
  {
   "cell_type": "markdown",
   "metadata": {},
   "source": [
    "# 2.3"
   ]
  },
  {
   "cell_type": "code",
   "execution_count": 9,
   "metadata": {},
   "outputs": [
    {
     "name": "stdout",
     "output_type": "stream",
     "text": [
      "숫자 입력 > 15\n",
      "\n",
      "15.0 inch\n",
      "38.1 cm\n",
      "원의 반지름 입력 >> 24\n",
      "\n",
      "반지름 :  24.0\n",
      "둘레 :  150.72\n",
      "넓이 :  1808.64\n",
      "문자열 입력 > 아오\n",
      "문자열 입력 > 이우\n",
      "아오 이우\n",
      "이우 아오\n"
     ]
    }
   ],
   "source": [
    "#4 \n",
    "str_input=input(\"숫자 입력 > \")\n",
    "num_input=float(str_input)\n",
    "print()\n",
    "print(num_input,\"inch\")\n",
    "print((num_input*2.54), \"cm\")\n",
    "#5\n",
    "str_input=input(\"원의 반지름 입력 >> \")\n",
    "num_input=float(str_input)\n",
    "print()\n",
    "print(\"반지름 : \", num_input)\n",
    "print(\"둘레 : \", 2*3.14*num_input)\n",
    "print(\"넓이 : \", 3.14*num_input**2)\n",
    "#6\n",
    "a=input(\"문자열 입력 > \")\n",
    "b=input(\"문자열 입력 > \")\n",
    "print(a,b)\n",
    "#튜플\n",
    "#자리바꾸기\n",
    "c=a\n",
    "a=b\n",
    "b=c\n",
    "print(a,b)"
   ]
  },
  {
   "cell_type": "markdown",
   "metadata": {},
   "source": [
    "# format_basic"
   ]
  },
  {
   "cell_type": "code",
   "execution_count": null,
   "metadata": {},
   "outputs": [],
   "source": [
    "string_a=\"{}\".format(10)\n",
    "\n",
    "print(string_a)\n",
    "print(type(string_a))\n",
    "\n",
    "format_a=\"{}만 원\".format(5000)\n",
    "format_b=\"파이썬 열공하여 첫 연 봉 {} 만원 만들기\".format(5000)\n",
    "format_c=\"{} {} {}\".format(3000,4000,5000)\n",
    "format_d=\"{} {} {}\".format(1,\"문자열\", True)\n",
    "\n",
    "print(format_a)\n",
    "print(format_b)\n",
    "print(format_c)\n",
    "print(format_d)"
   ]
  },
  {
   "cell_type": "markdown",
   "metadata": {},
   "source": [
    "# format02.py"
   ]
  },
  {
   "cell_type": "code",
   "execution_count": 13,
   "metadata": {},
   "outputs": [
    {
     "name": "stdout",
     "output_type": "stream",
     "text": [
      "52\n",
      "   52\n",
      "        52\n",
      "00052\n",
      "-0052\n",
      "+52\n",
      "-52\n",
      " 52\n",
      "-52\n",
      "  +52\n",
      "  -52\n",
      "+  52\n",
      "-  52\n",
      "+0052\n",
      "-0052\n"
     ]
    }
   ],
   "source": [
    "output_a=\"{:d}\".format(52)\n",
    "\n",
    "output_b=\"{:5d}\".format(52)\n",
    "output_c=\"{:10d}\".format(52)\n",
    "\n",
    "output_d=\"{:05d}\".format(52)\n",
    "output_e=\"{:05d}\".format(-52)\n",
    "\n",
    "print(output_a)\n",
    "print(output_b)\n",
    "print(output_c)\n",
    "print(output_d)\n",
    "print(output_e)\n",
    "\n",
    "output_f=\"{:+d}\".format(52)\n",
    "output_g=\"{:+d}\".format(-52)\n",
    "output_h=\"{: d}\".format(52)\n",
    "output_i=\"{: d}\".format(-52)\n",
    "\n",
    "print(output_f)\n",
    "print(output_g)\n",
    "print(output_h)\n",
    "print(output_i)\n",
    "\n",
    "output_h=\"{:+5d}\".format(52)\n",
    "output_i=\"{:+5d}\".format(-52)\n",
    "output_j=\"{:=+5d}\".format(52)\n",
    "output_k=\"{:=+5d}\".format(-52)\n",
    "output_l=\"{:+05d}\".format(52)\n",
    "output_m=\"{:+05d}\".format(-52)\n",
    "\n",
    "print(output_h)\n",
    "print(output_i)\n",
    "print(output_j)\n",
    "print(output_k)\n",
    "print(output_l)\n",
    "print(output_m)\n"
   ]
  },
  {
   "cell_type": "markdown",
   "metadata": {},
   "source": [
    "# format05"
   ]
  },
  {
   "cell_type": "code",
   "execution_count": 12,
   "metadata": {},
   "outputs": [
    {
     "name": "stdout",
     "output_type": "stream",
     "text": [
      "52.273000\n",
      "      52.273000\n",
      "     +52.273000\n",
      "+0000052.273000\n",
      "\n",
      "         52.273\n",
      "          52.27\n",
      "           52.3\n",
      "\n",
      "52.0\n",
      "52\n",
      "\n"
     ]
    }
   ],
   "source": [
    "output_a=\"{:f}\".format(52.273)\n",
    "output_b=\"{:15f}\".format(52.273)\n",
    "output_c=\"{:+15f}\".format(52.273)\n",
    "output_d=\"{:+015f}\".format(52.273)\n",
    "\n",
    "print(output_a)\n",
    "print(output_b)\n",
    "print(output_c)\n",
    "print(output_d)\n",
    "\n",
    "output_e=\"{:15.3f}\".format(52.273)\n",
    "output_f=\"{:15.2f}\".format(52.273)\n",
    "output_g=\"{:15.1f}\".format(52.273)\n",
    "print()\n",
    "print(output_e)\n",
    "print(output_f)\n",
    "print(output_g)\n",
    "print()\n",
    "output_h=52.0\n",
    "output_i=\"{:g}\".format(output_h)\n",
    "print(output_h)\n",
    "print(output_i)\n",
    "print()\n",
    "\n",
    "\n"
   ]
  },
  {
   "cell_type": "markdown",
   "metadata": {},
   "source": [
    "#  2.4"
   ]
  },
  {
   "cell_type": "code",
   "execution_count": 11,
   "metadata": {},
   "outputs": [
    {
     "name": "stdout",
     "output_type": "stream",
     "text": [
      "> 1번째 숫자 : 19\n",
      "> 2번째 숫자 : 24\n",
      "\n",
      "19 + 24 = 43\n",
      "A 지점 :  hello\n",
      "B 지점 :  HELLO\n"
     ]
    }
   ],
   "source": [
    "#3\n",
    "a=input(\"> 1번째 숫자 : \")\n",
    "b=input(\"> 2번째 숫자 : \")\n",
    "print()\n",
    "print(\"{} + {} = {}\".format(a,b,int(a)+int(b)))\n",
    "#4\n",
    "print()\n",
    "string=\"hello\"\n",
    "string.upper()\n",
    "print(\"A 지점 : \", string)\n",
    "print(\"B 지점 : \", string.upper())"
   ]
  },
  {
   "cell_type": "code",
   "execution_count": null,
   "metadata": {},
   "outputs": [],
   "source": []
  },
  {
   "cell_type": "code",
   "execution_count": null,
   "metadata": {},
   "outputs": [],
   "source": []
  },
  {
   "cell_type": "code",
   "execution_count": null,
   "metadata": {},
   "outputs": [],
   "source": []
  }
 ],
 "metadata": {
  "kernelspec": {
   "display_name": "Python 3",
   "language": "python",
   "name": "python3"
  },
  "language_info": {
   "codemirror_mode": {
    "name": "ipython",
    "version": 3
   },
   "file_extension": ".py",
   "mimetype": "text/x-python",
   "name": "python",
   "nbconvert_exporter": "python",
   "pygments_lexer": "ipython3",
   "version": "3.8.3"
  }
 },
 "nbformat": 4,
 "nbformat_minor": 4
}
