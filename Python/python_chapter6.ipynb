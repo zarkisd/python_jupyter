{
 "cells": [
  {
   "cell_type": "markdown",
   "metadata": {},
   "source": [
    "# handle_with_condition.py"
   ]
  },
  {
   "cell_type": "code",
   "execution_count": null,
   "metadata": {},
   "outputs": [],
   "source": [
    "user_input_a=input(\"정수 입력 > \")\n",
    "if user_input_a.isdigit():\n",
    "    number_input_a=int(user_input_a)\n",
    "    print(\"원의 반지름 : \", number_input_a)\n",
    "    print(\"원의 둘레 : \", 2*3.14*number_input_a)\n",
    "    print(\"원의 넓이 : \",3.14*number_input_a**2)\n",
    "else:\n",
    "    print(\"정수 입력 안함\")"
   ]
  },
  {
   "cell_type": "markdown",
   "metadata": {},
   "source": [
    "# handle_with_try.py"
   ]
  },
  {
   "cell_type": "code",
   "execution_count": 2,
   "metadata": {},
   "outputs": [
    {
     "name": "stdout",
     "output_type": "stream",
     "text": [
      "정수 입력 > 10a\n",
      "정수 입력 안함\n"
     ]
    }
   ],
   "source": [
    "try:\n",
    "    user_input_a=input(\"정수 입력 > \")\n",
    "    \n",
    "    number_input_a=int(user_input_a)\n",
    "    print(\"원의 반지름 : \", number_input_a)\n",
    "    print(\"원의 둘레 : \", 2*3.14*number_input_a)\n",
    "    print(\"원의 넓이 : \",3.14*number_input_a**2)\n",
    "except:\n",
    "    print(\"정수 입력 안함\")"
   ]
  },
  {
   "cell_type": "markdown",
   "metadata": {},
   "source": [
    "# try_except_else_finally.py "
   ]
  },
  {
   "cell_type": "code",
   "execution_count": 4,
   "metadata": {},
   "outputs": [
    {
     "name": "stdout",
     "output_type": "stream",
     "text": [
      "정수 입력 > 11ㅋ\n",
      "정수 입력 안함\n",
      "어떻게든 끝남\n"
     ]
    }
   ],
   "source": [
    "try:\n",
    "    number_input_a=int(input(\"정수 입력 > \"))\n",
    "    \n",
    "    \n",
    "    print(\"원의 반지름 : \", number_input_a)\n",
    "    print(\"원의 둘레 : \", 2*3.14*number_input_a)\n",
    "    print(\"원의 넓이 : \",3.14*number_input_a**2)\n",
    "except:\n",
    "    print(\"정수 입력 안함\")\n",
    "else:\n",
    "    print(\"에외발생 X\")\n",
    "finally:\n",
    "    print(\"어떻게든 끝남\")"
   ]
  },
  {
   "cell_type": "markdown",
   "metadata": {},
   "source": [
    "#  6.1"
   ]
  },
  {
   "cell_type": "code",
   "execution_count": 4,
   "metadata": {},
   "outputs": [
    {
     "name": "stdout",
     "output_type": "stream",
     "text": [
      "# 1) 요소 내부에 있는 값 찾기\n",
      "- 52는 0 위치에 있습니다.\n",
      "\n",
      "# 2) 요소 내부에 없는 값 찾기\n",
      "-리스트 내부에 없는 값입니다.\n",
      "\n",
      "=== 정상적으로 종료되었습니다. ===\n"
     ]
    },
    {
     "ename": "IndexError",
     "evalue": "list index out of range",
     "output_type": "error",
     "traceback": [
      "\u001b[1;31m---------------------------------------------------------------------------\u001b[0m",
      "\u001b[1;31mIndexError\u001b[0m                                Traceback (most recent call last)",
      "\u001b[1;32m<ipython-input-4-a5f105842aa3>\u001b[0m in \u001b[0;36m<module>\u001b[1;34m\u001b[0m\n\u001b[0;32m     20\u001b[0m \u001b[1;31m#int(\"안녕하세요\") #예외 valueError\u001b[0m\u001b[1;33m\u001b[0m\u001b[1;33m\u001b[0m\u001b[1;33m\u001b[0m\u001b[0m\n\u001b[0;32m     21\u001b[0m \u001b[1;31m#cursor.close) # SyntaxError\u001b[0m\u001b[1;33m\u001b[0m\u001b[1;33m\u001b[0m\u001b[1;33m\u001b[0m\u001b[0m\n\u001b[1;32m---> 22\u001b[1;33m \u001b[1;33m[\u001b[0m\u001b[1;36m1\u001b[0m\u001b[1;33m,\u001b[0m\u001b[1;36m2\u001b[0m\u001b[1;33m,\u001b[0m\u001b[1;36m3\u001b[0m\u001b[1;33m,\u001b[0m\u001b[1;36m4\u001b[0m\u001b[1;33m,\u001b[0m\u001b[1;36m5\u001b[0m\u001b[1;33m]\u001b[0m\u001b[1;33m[\u001b[0m\u001b[1;36m10\u001b[0m\u001b[1;33m]\u001b[0m\u001b[1;33m\u001b[0m\u001b[1;33m\u001b[0m\u001b[0m\n\u001b[0m",
      "\u001b[1;31mIndexError\u001b[0m: list index out of range"
     ]
    }
   ],
   "source": [
    "#2\n",
    "numbers=[52,273,32,103,90,10,275]\n",
    "print(\"# 1) 요소 내부에 있는 값 찾기\")\n",
    "\n",
    "print(\"- {}는 {} 위치에 있습니다.\".format(52,numbers.index(52)) )\n",
    "print()\n",
    "\n",
    "print(\"# 2) 요소 내부에 없는 값 찾기\")\n",
    "number=10000\n",
    "try:\n",
    "    print(\"- {}는 {} 위치에 있습니다.\".format(number,numbers.index(number)) )\n",
    "except:\n",
    "    print(\"-리스트 내부에 없는 값입니다.\")\n",
    "print()\n",
    "\n",
    "print(\"=== 정상적으로 종료되었습니다. ===\")\n",
    "\n",
    "#3\n",
    "#output=10+\"개\"  #예외 valueError \n",
    "#int(\"안녕하세요\") #예외 valueError\n",
    "#cursor.close) # SyntaxError\n",
    "#[1,2,3,4,5][10] #예외 IndexError"
   ]
  },
  {
   "cell_type": "markdown",
   "metadata": {},
   "source": [
    "# except01.py"
   ]
  },
  {
   "cell_type": "code",
   "execution_count": 4,
   "metadata": {},
   "outputs": [
    {
     "name": "stdout",
     "output_type": "stream",
     "text": [
      "정수 입력 > 15.2\n",
      "type(exception) : <class 'ValueError'>\n",
      "exception : invalid literal for int() with base 10: '15.2'\n"
     ]
    }
   ],
   "source": [
    "try:\n",
    "    number_input_a=int(input(\"정수 입력 > \"))\n",
    "    print(\"원의 반지름 : {}\".format(number_input_a))\n",
    "    print(\"원의 둘레 : {}\".format(2*3.14*number_input_a))\n",
    "    print(\"원의 넓이 : {}\".format(3.14*number_input_a**2))\n",
    "except Exception as exception:\n",
    "    print(f\"type(exception) : {type(exception)}\")\n",
    "    print(f\"exception : {exception}\")"
   ]
  },
  {
   "cell_type": "markdown",
   "metadata": {},
   "source": [
    "# except_multi.py"
   ]
  },
  {
   "cell_type": "code",
   "execution_count": 6,
   "metadata": {},
   "outputs": [
    {
     "name": "stdout",
     "output_type": "stream",
     "text": [
      "정수 입력 > 5\n",
      "리스트 인덱스 벗어남\n"
     ]
    }
   ],
   "source": [
    "list_number=[52,273,32,72,100]\n",
    "try:\n",
    "    number_input_a=int(input(\"정수 입력 > \"))\n",
    "    print(f\"{number_input_a}번째 요소 : {list_number[number_input_a]}\")\n",
    "except ValueError:\n",
    "    print(\"정수를 입력해 주세요!!\")\n",
    "except IndexError:\n",
    "    print(\"리스트 인덱스 벗어남\")"
   ]
  },
  {
   "cell_type": "markdown",
   "metadata": {},
   "source": [
    "# raise\n",
    "오류 일부러 발생시킬떄"
   ]
  },
  {
   "cell_type": "code",
   "execution_count": null,
   "metadata": {},
   "outputs": [],
   "source": []
  },
  {
   "cell_type": "code",
   "execution_count": null,
   "metadata": {},
   "outputs": [],
   "source": []
  },
  {
   "cell_type": "code",
   "execution_count": null,
   "metadata": {},
   "outputs": [],
   "source": []
  },
  {
   "cell_type": "code",
   "execution_count": null,
   "metadata": {},
   "outputs": [],
   "source": []
  },
  {
   "cell_type": "code",
   "execution_count": null,
   "metadata": {},
   "outputs": [],
   "source": []
  }
 ],
 "metadata": {
  "kernelspec": {
   "display_name": "Python 3",
   "language": "python",
   "name": "python3"
  },
  "language_info": {
   "codemirror_mode": {
    "name": "ipython",
    "version": 3
   },
   "file_extension": ".py",
   "mimetype": "text/x-python",
   "name": "python",
   "nbconvert_exporter": "python",
   "pygments_lexer": "ipython3",
   "version": "3.8.3"
  }
 },
 "nbformat": 4,
 "nbformat_minor": 4
}
