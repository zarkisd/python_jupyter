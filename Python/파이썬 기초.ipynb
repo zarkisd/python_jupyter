{
 "cells": [
  {
   "cell_type": "markdown",
   "metadata": {},
   "source": [
    "# 이스케이프 코드"
   ]
  },
  {
   "cell_type": "code",
   "execution_count": 1,
   "metadata": {},
   "outputs": [],
   "source": [
    "# print문 안에서 동작\n",
    "# \\n : 개행\n",
    "# \\t : 수평탭\n",
    "# \\\\ : 문자 \\\n",
    "# \\' : 단일인용부호\n",
    "# \\\" : 이중 인용부호"
   ]
  },
  {
   "cell_type": "code",
   "execution_count": 5,
   "metadata": {},
   "outputs": [
    {
     "name": "stdout",
     "output_type": "stream",
     "text": [
      "가나\"다\n",
      "라마바'사\n"
     ]
    }
   ],
   "source": [
    "s=\"가나\\\"다\\n라마바\\'사\"\n",
    "print(s)"
   ]
  },
  {
   "cell_type": "markdown",
   "metadata": {},
   "source": [
    "# 인덱싱 슬라이싱\n",
    "- [인덱스 번호] : 해당 인덱스 값 출력\n",
    "- [시작 인덱스 번호 : 끝나는 인덱스 다음번호 ]: 해당범위의 값 출력 \n",
    "- [:인덱스] : 처음부터 인덱스 전까지\n",
    "- [인덱스:] : 인덱스부터 끝까지"
   ]
  },
  {
   "cell_type": "code",
   "execution_count": 6,
   "metadata": {},
   "outputs": [],
   "source": [
    "name = \"my name is JH\""
   ]
  },
  {
   "cell_type": "code",
   "execution_count": 14,
   "metadata": {},
   "outputs": [
    {
     "name": "stdout",
     "output_type": "stream",
     "text": [
      "y\n",
      "JH\n",
      "y\n",
      "JH\n",
      "my name is JH\n"
     ]
    }
   ],
   "source": [
    "# y 가져오기\n",
    "# 이름 가져오기\n",
    "print(name[1])\n",
    "print(name[11:])\n",
    "print(name[-12])\n",
    "print(name[-2:])\n",
    "print(name[::1])"
   ]
  },
  {
   "cell_type": "markdown",
   "metadata": {},
   "source": [
    "# 포메팅 2가지\n",
    "- 포맷 기능 : %\n",
    "- 포맷 함수 : .format\n"
   ]
  },
  {
   "cell_type": "code",
   "execution_count": 15,
   "metadata": {},
   "outputs": [],
   "source": [
    "# %s : 문자열\n",
    "# %c : 문자 1개\n",
    "# %d : 정수\n",
    "# %f : 실수\n"
   ]
  },
  {
   "cell_type": "code",
   "execution_count": 18,
   "metadata": {},
   "outputs": [
    {
     "name": "stdout",
     "output_type": "stream",
     "text": [
      "오늘 날짜는 1월 20일 입니다.\n"
     ]
    }
   ],
   "source": [
    "month=1\n",
    "day=20\n",
    "date1= \"오늘 날짜는 %d월 %d일 입니다.\"%(month, day)\n",
    "print(date1)"
   ]
  },
  {
   "cell_type": "code",
   "execution_count": 19,
   "metadata": {},
   "outputs": [
    {
     "name": "stdout",
     "output_type": "stream",
     "text": [
      "오늘 날짜는 1월 20일입니다.\n"
     ]
    }
   ],
   "source": [
    "month=1\n",
    "day=20\n",
    "date2=\"오늘 날짜는 {}월 {}일입니다.\".format(month,day)\n",
    "print(date2)"
   ]
  },
  {
   "cell_type": "markdown",
   "metadata": {},
   "source": [
    "### 유용한 함수\n",
    "*replace 문자열바꾸기\n",
    "*split 문자열나누기\n",
    "*count 개수세기\n",
    "*find 위치찾기"
   ]
  },
  {
   "cell_type": "code",
   "execution_count": 24,
   "metadata": {},
   "outputs": [
    {
     "name": "stdout",
     "output_type": "stream",
     "text": [
      "이명훈\n",
      "LEE명훈\n"
     ]
    }
   ],
   "source": [
    "name=\"이명훈\"\n",
    "name.replace(\"이\", \"LEE\")# 출력하고 저장 안함\n",
    "print(name)\n",
    "name=name.replace(\"이\", \"LEE\")# 저장해야함\n",
    "print(name)\n"
   ]
  },
  {
   "cell_type": "code",
   "execution_count": 29,
   "metadata": {},
   "outputs": [
    {
     "name": "stdout",
     "output_type": "stream",
     "text": [
      "['손', '준', '호']\n",
      "손\n",
      "준호\n"
     ]
    }
   ],
   "source": [
    "name=\"손 준 호\"\n",
    "name.split(\" \")\n",
    "list=name.split(\" \")\n",
    "print(list)\n",
    "first_name=list[0]\n",
    "last_name=list[1]+list[2]\n",
    "print(first_name)\n",
    "print(last_name)"
   ]
  },
  {
   "cell_type": "code",
   "execution_count": 28,
   "metadata": {},
   "outputs": [
    {
     "name": "stdout",
     "output_type": "stream",
     "text": [
      "11\n"
     ]
    }
   ],
   "source": [
    "name=\"손준호gjhghghghghghghghghghghgh\"\n",
    "num=name.count(\"gh\")\n",
    "print(num)"
   ]
  },
  {
   "cell_type": "code",
   "execution_count": 30,
   "metadata": {},
   "outputs": [
    {
     "name": "stdout",
     "output_type": "stream",
     "text": [
      "2\n"
     ]
    }
   ],
   "source": [
    "name=\"손준호\"\n",
    "name.find(\"호\")\n",
    "index=name.find(\"호\")\n",
    "print(index)"
   ]
  },
  {
   "cell_type": "markdown",
   "metadata": {},
   "source": [
    "# 리스트\n",
    "- [_] \n",
    "- append 추가\n",
    "- insert 인덱스 위치에 값 추가\n",
    "- remove 제거"
   ]
  },
  {
   "cell_type": "code",
   "execution_count": 31,
   "metadata": {},
   "outputs": [],
   "source": [
    "list1=[1,2,3,4,5]"
   ]
  },
  {
   "cell_type": "code",
   "execution_count": 38,
   "metadata": {},
   "outputs": [
    {
     "name": "stdout",
     "output_type": "stream",
     "text": [
      "[1, 2, 3, 4, 5, 6]\n",
      "[-1, 1, 2, 3, 4, 5, 6]\n"
     ]
    }
   ],
   "source": [
    "# 맨 뒤에 6 추가\n",
    "list1.append(6)\n",
    "print(list1)\n",
    "# 맨 앞에 -1 추가\n",
    "list1.insert(0,-1)\n",
    "print(list1)\n"
   ]
  },
  {
   "cell_type": "code",
   "execution_count": 35,
   "metadata": {},
   "outputs": [
    {
     "name": "stdout",
     "output_type": "stream",
     "text": [
      "[1, 2, 3, 4, 5, 6, 6]\n"
     ]
    }
   ],
   "source": [
    "#-1 삭제\n",
    "list1.remove(-1)\n",
    "print(list1)"
   ]
  },
  {
   "cell_type": "code",
   "execution_count": 37,
   "metadata": {},
   "outputs": [
    {
     "name": "stdout",
     "output_type": "stream",
     "text": [
      "[1, 2, 3, 4, 5]\n"
     ]
    }
   ],
   "source": [
    "list1.remove(6)\n",
    "print(list1)"
   ]
  },
  {
   "cell_type": "markdown",
   "metadata": {},
   "source": [
    "# 튜플\n",
    "리스트와 유사\n",
    "값을 수정할 수 없다\n",
    "()"
   ]
  },
  {
   "cell_type": "code",
   "execution_count": 40,
   "metadata": {},
   "outputs": [
    {
     "name": "stdout",
     "output_type": "stream",
     "text": [
      "(1, 2, 3, 4, 5)\n"
     ]
    }
   ],
   "source": [
    "tup=(1,2,3,4,5)\n",
    "print(tup)"
   ]
  },
  {
   "cell_type": "markdown",
   "metadata": {},
   "source": [
    "# 딕셔너리\n",
    "- {key : value, key=value}\n",
    "key : 하나의 값\n",
    "value : 여러가지값"
   ]
  },
  {
   "cell_type": "code",
   "execution_count": 44,
   "metadata": {},
   "outputs": [],
   "source": [
    "dic1={\"이름\": [\"이명훈\",\"나예호\"], \"과목\":[\"파이썬\", \"자바\"]}"
   ]
  },
  {
   "cell_type": "code",
   "execution_count": 45,
   "metadata": {},
   "outputs": [
    {
     "name": "stdout",
     "output_type": "stream",
     "text": [
      "['이명훈', '나예호']\n",
      "['파이썬', '자바']\n"
     ]
    }
   ],
   "source": [
    "print(dic1[\"이름\"])\n",
    "print(dic1[\"과목\"])"
   ]
  },
  {
   "cell_type": "code",
   "execution_count": 46,
   "metadata": {},
   "outputs": [
    {
     "data": {
      "text/plain": [
       "['이명훈', '나예호']"
      ]
     },
     "execution_count": 46,
     "metadata": {},
     "output_type": "execute_result"
    }
   ],
   "source": [
    "dic1.get(\"이름\")"
   ]
  },
  {
   "cell_type": "code",
   "execution_count": 47,
   "metadata": {},
   "outputs": [
    {
     "data": {
      "text/plain": [
       "dict_keys(['이름', '과목'])"
      ]
     },
     "execution_count": 47,
     "metadata": {},
     "output_type": "execute_result"
    }
   ],
   "source": [
    "# key값 검색\n",
    "dic1.keys()"
   ]
  },
  {
   "cell_type": "code",
   "execution_count": 48,
   "metadata": {},
   "outputs": [
    {
     "data": {
      "text/plain": [
       "dict_values([['이명훈', '나예호'], ['파이썬', '자바']])"
      ]
     },
     "execution_count": 48,
     "metadata": {},
     "output_type": "execute_result"
    }
   ],
   "source": [
    "#value값 검색\n",
    "dic1.values()"
   ]
  },
  {
   "cell_type": "code",
   "execution_count": 49,
   "metadata": {},
   "outputs": [
    {
     "name": "stdout",
     "output_type": "stream",
     "text": [
      "{'이름': ['이명훈', '나예호'], '과목': ['파이썬', '자바'], '나이': [20, 21]}\n"
     ]
    }
   ],
   "source": [
    "# 값 추가\n",
    "# dic1[key]=value\n",
    "dic1[\"나이\"]=[20,21]\n",
    "print(dic1)"
   ]
  },
  {
   "cell_type": "code",
   "execution_count": 50,
   "metadata": {},
   "outputs": [
    {
     "name": "stdout",
     "output_type": "stream",
     "text": [
      "{'이름': ['이명훈', '나예호'], '과목': ['파이썬', '자바']}\n"
     ]
    }
   ],
   "source": [
    "# 값 삭제\n",
    "# key값 입력\n",
    "del dic1['나이']\n",
    "print(dic1)"
   ]
  },
  {
   "cell_type": "code",
   "execution_count": 51,
   "metadata": {},
   "outputs": [],
   "source": [
    "dic1[\"이름\"]=[\"이명훈\", \"나예호\", \"손준호\"]"
   ]
  },
  {
   "cell_type": "code",
   "execution_count": 52,
   "metadata": {},
   "outputs": [
    {
     "name": "stdout",
     "output_type": "stream",
     "text": [
      "{'이름': ['이명훈', '나예호', '손준호'], '과목': ['파이썬', '자바']}\n"
     ]
    }
   ],
   "source": [
    "print(dic1)"
   ]
  },
  {
   "cell_type": "code",
   "execution_count": null,
   "metadata": {},
   "outputs": [],
   "source": []
  },
  {
   "cell_type": "code",
   "execution_count": null,
   "metadata": {},
   "outputs": [],
   "source": []
  },
  {
   "cell_type": "code",
   "execution_count": null,
   "metadata": {},
   "outputs": [],
   "source": []
  },
  {
   "cell_type": "code",
   "execution_count": null,
   "metadata": {},
   "outputs": [],
   "source": []
  },
  {
   "cell_type": "code",
   "execution_count": null,
   "metadata": {},
   "outputs": [],
   "source": []
  },
  {
   "cell_type": "code",
   "execution_count": null,
   "metadata": {},
   "outputs": [],
   "source": []
  },
  {
   "cell_type": "code",
   "execution_count": null,
   "metadata": {},
   "outputs": [],
   "source": []
  },
  {
   "cell_type": "code",
   "execution_count": null,
   "metadata": {},
   "outputs": [],
   "source": []
  },
  {
   "cell_type": "code",
   "execution_count": null,
   "metadata": {},
   "outputs": [],
   "source": []
  },
  {
   "cell_type": "code",
   "execution_count": null,
   "metadata": {},
   "outputs": [],
   "source": []
  }
 ],
 "metadata": {
  "kernelspec": {
   "display_name": "Python 3",
   "language": "python",
   "name": "python3"
  },
  "language_info": {
   "codemirror_mode": {
    "name": "ipython",
    "version": 3
   },
   "file_extension": ".py",
   "mimetype": "text/x-python",
   "name": "python",
   "nbconvert_exporter": "python",
   "pygments_lexer": "ipython3",
   "version": "3.8.3"
  }
 },
 "nbformat": 4,
 "nbformat_minor": 4
}
