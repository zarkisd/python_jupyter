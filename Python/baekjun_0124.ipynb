{
 "cells": [
  {
   "cell_type": "code",
   "execution_count": 1,
   "metadata": {},
   "outputs": [
    {
     "name": "stdout",
     "output_type": "stream",
     "text": [
      "Hello World!\n"
     ]
    }
   ],
   "source": [
    "print(\"Hello World!\")"
   ]
  },
  {
   "cell_type": "code",
   "execution_count": 3,
   "metadata": {},
   "outputs": [
    {
     "name": "stdout",
     "output_type": "stream",
     "text": [
      "A : 1\n",
      "B : 2\n",
      "3\n"
     ]
    }
   ],
   "source": [
    "A=int(input(\"A : \"))\n",
    "B=int(input(\"B : \"))\n",
    "print(A+B)"
   ]
  },
  {
   "cell_type": "code",
   "execution_count": 4,
   "metadata": {},
   "outputs": [
    {
     "name": "stdout",
     "output_type": "stream",
     "text": [
      "A : 2\n",
      "B : 9\n",
      "18\n"
     ]
    }
   ],
   "source": [
    "A=int(input(\"A : \"))\n",
    "B=int(input(\"B : \"))\n",
    "print(A+B)"
   ]
  },
  {
   "cell_type": "code",
   "execution_count": 5,
   "metadata": {},
   "outputs": [
    {
     "name": "stdout",
     "output_type": "stream",
     "text": [
      "A : 9\n",
      "B : 2\n",
      "7\n"
     ]
    }
   ],
   "source": [
    "A=int(input(\"A : \"))\n",
    "B=int(input(\"B : \"))\n",
    "print(A-B)"
   ]
  },
  {
   "cell_type": "code",
   "execution_count": 10,
   "metadata": {},
   "outputs": [
    {
     "name": "stdout",
     "output_type": "stream",
     "text": [
      "A : 9\n",
      "B : 2\n",
      "4.50\n"
     ]
    }
   ],
   "source": [
    "A=int(input(\"A : \"))\n",
    "B=int(input(\"B : \"))\n",
    "print(\"{:.2f}\".format(A/B))"
   ]
  },
  {
   "cell_type": "code",
   "execution_count": 12,
   "metadata": {},
   "outputs": [
    {
     "name": "stdout",
     "output_type": "stream",
     "text": [
      "A : 51\n",
      "B : 9\n",
      "60\n",
      "42\n",
      "459\n",
      "5.67\n",
      "6\n"
     ]
    }
   ],
   "source": [
    "A=int(input(\"A : \"))\n",
    "B=int(input(\"B : \"))\n",
    "print(f\"{A+B}\")\n",
    "print(f\"{A-B}\")\n",
    "print(f\"{A*B}\")\n",
    "print(\"{:.2f}\".format(A/B))\n",
    "print(f\"{A%B}\")"
   ]
  },
  {
   "cell_type": "code",
   "execution_count": 16,
   "metadata": {},
   "outputs": [
    {
     "name": "stdout",
     "output_type": "stream",
     "text": [
      "A : 15\n",
      "B : 24\n",
      "C : 9\n",
      "(A+B)%C : 3\n",
      "((A%C)*(B%C))%C : 3\n",
      "(A*B)%C : 0\n",
      " ((A%C) * (B%C))%C : 0\n"
     ]
    }
   ],
   "source": [
    "A=int(input(\"A : \"))\n",
    "B=int(input(\"B : \"))\n",
    "C=int(input(\"C : \"))\n",
    "print(f\"(A+B)%C : {(A+B)%C}\")\n",
    "print(f\"((A%C)*(B%C))%C : {((A%C)+(B%C))%C}\")\n",
    "print(f\"(A*B)%C : {(A*B)%C}\")\n",
    "print(f\" ((A%C) * (B%C))%C : { ((A%C) * (B%C))%C}\")\n",
    "\n"
   ]
  },
  {
   "cell_type": "code",
   "execution_count": 17,
   "metadata": {},
   "outputs": [
    {
     "name": "stdout",
     "output_type": "stream",
     "text": [
      "A : 1\n",
      "B : 2\n",
      "3\n"
     ]
    }
   ],
   "source": [
    "A=int(input(\"A : \"))\n",
    "B=int(input(\"B : \"))\n",
    "print(A+B)"
   ]
  },
  {
   "cell_type": "code",
   "execution_count": 22,
   "metadata": {},
   "outputs": [
    {
     "name": "stdout",
     "output_type": "stream",
     "text": [
      "A : 472\n",
      "B : 385\n",
      "5\n",
      "2360\n",
      "8\n",
      "3776\n"
     ]
    }
   ],
   "source": [
    "A=int(input(\"A : \"))\n",
    "B=input(\"B : \")\n",
    "b_lastnum=B[-1]\n",
    "print(b_lastnum)\n",
    "three=A*int(b_lastnum)\n",
    "print(three)\n",
    "b_secondnum=B[-2]\n",
    "print(b_secondnum)\n",
    "four=A*int(b_secondnum)\n",
    "print(four)\n",
    "\n"
   ]
  },
  {
   "cell_type": "code",
   "execution_count": 24,
   "metadata": {},
   "outputs": [
    {
     "name": "stdout",
     "output_type": "stream",
     "text": [
      "19\n",
      "2\n"
     ]
    }
   ],
   "source": [
    "def f(r1, s):\n",
    "    return print(2*s-r1)\n",
    "f(11,15)\n",
    "f(4,3)"
   ]
  },
  {
   "cell_type": "code",
   "execution_count": 25,
   "metadata": {},
   "outputs": [
    {
     "name": "stdout",
     "output_type": "stream",
     "text": [
      "3\n"
     ]
    }
   ],
   "source": [
    "def f(n,m):\n",
    "    return print(n*m-1)\n",
    "f(2,2)"
   ]
  },
  {
   "cell_type": "code",
   "execution_count": 28,
   "metadata": {},
   "outputs": [
    {
     "name": "stdout",
     "output_type": "stream",
     "text": [
      "Case #1 : 2\n",
      "Case #2 : 5\n",
      "Case #3 : 7\n",
      "Case #4 : 17\n",
      "Case #5 : 7\n"
     ]
    }
   ],
   "source": [
    "A=[1,2,3,9,5]\n",
    "B=[1,3,4,8,2]\n",
    "for i in range(1,6):\n",
    "    print(f\"Case #{i} : {A[i-1]+B[i-1]}\")\n"
   ]
  },
  {
   "cell_type": "code",
   "execution_count": 29,
   "metadata": {},
   "outputs": [
    {
     "name": "stdout",
     "output_type": "stream",
     "text": [
      "Case #1 : 1+1=2\n",
      "Case #2 : 2+3=5\n",
      "Case #3 : 3+4=7\n",
      "Case #4 : 9+8=17\n",
      "Case #5 : 5+2=7\n"
     ]
    }
   ],
   "source": [
    "A=[1,2,3,9,5]\n",
    "B=[1,3,4,8,2]\n",
    "for i in range(1,6):\n",
    "    print(f\"Case #{i} : {A[i-1]}+{B[i-1]}={A[i-1]+B[i-1]}\")"
   ]
  },
  {
   "cell_type": "code",
   "execution_count": 33,
   "metadata": {},
   "outputs": [
    {
     "name": "stdout",
     "output_type": "stream",
     "text": [
      "2021-1-24\n"
     ]
    }
   ],
   "source": [
    "import datetime\n",
    "now=datetime.datetime.now()\n",
    "print(f\"{now.year}-{now.month}-{now.day}\")"
   ]
  },
  {
   "cell_type": "code",
   "execution_count": 40,
   "metadata": {},
   "outputs": [
    {
     "name": "stdout",
     "output_type": "stream",
     "text": [
      "19 54\n",
      "<class 'int'>\n",
      "입력 시간 : 50\n",
      "20 44\n"
     ]
    }
   ],
   "source": [
    "\n",
    "hour=now.hour\n",
    "mint=now.minute\n",
    "print(hour,mint)\n",
    "print(type(mint))\n",
    "input_min=int(input(\"입력 시간 : \"))\n",
    "if mint+input_min>=60:\n",
    "    print(hour+1,mint+input_min-60)"
   ]
  },
  {
   "cell_type": "code",
   "execution_count": 48,
   "metadata": {},
   "outputs": [
    {
     "name": "stdout",
     "output_type": "stream",
     "text": [
      "875\n"
     ]
    }
   ],
   "source": [
    "import math\n",
    "def f(a, m):\n",
    "    return a*(m-0.99)\n",
    "print(math.ceil(f(38,24)))"
   ]
  },
  {
   "cell_type": "code",
   "execution_count": 55,
   "metadata": {},
   "outputs": [
    {
     "name": "stdout",
     "output_type": "stream",
     "text": [
      "14\n",
      "25.200000000000003\n",
      "@\n",
      "9\n"
     ]
    }
   ],
   "source": [
    "def f(num, *values):\n",
    "    for i in values:\n",
    "        if i==\"@\":\n",
    "            num*=3\n",
    "        elif i==\"%\":\n",
    "            num+=5\n",
    "        elif i==\"#\":\n",
    "            num-=7\n",
    "        else:\n",
    "            pass\n",
    "    return num\n",
    "\n",
    "print(f(3,\"@\",\"%\"))\n",
    "print(f(10.4,\"#\",\"%\",\"@\"))\n",
    "an=input()\n",
    "print(f(3,an))"
   ]
  },
  {
   "cell_type": "code",
   "execution_count": null,
   "metadata": {},
   "outputs": [],
   "source": []
  }
 ],
 "metadata": {
  "kernelspec": {
   "display_name": "Python 3",
   "language": "python",
   "name": "python3"
  },
  "language_info": {
   "codemirror_mode": {
    "name": "ipython",
    "version": 3
   },
   "file_extension": ".py",
   "mimetype": "text/x-python",
   "name": "python",
   "nbconvert_exporter": "python",
   "pygments_lexer": "ipython3",
   "version": "3.8.3"
  }
 },
 "nbformat": 4,
 "nbformat_minor": 4
}
