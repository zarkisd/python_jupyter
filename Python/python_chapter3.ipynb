{
 "cells": [
  {
   "cell_type": "markdown",
   "metadata": {},
   "source": [
    "### boolean.py"
   ]
  },
  {
   "cell_type": "code",
   "execution_count": null,
   "metadata": {},
   "outputs": [],
   "source": [
    "x=10\n",
    "under_20=x<20\n",
    "print(\"under_20 :\",under_20)\n",
    "print(\"not under_20 : \", not under_20)\n",
    "\n",
    "\n",
    "number=input(\"정수 입력 > \")\n",
    "number=int(number)\n",
    "\n",
    "if number>0:\n",
    "    print(\"+\")\n",
    "elif number<0:\n",
    "    print(\"-\")\n",
    "else:\n",
    "    print(\"0\")"
   ]
  },
  {
   "cell_type": "markdown",
   "metadata": {},
   "source": [
    "### date"
   ]
  },
  {
   "cell_type": "code",
   "execution_count": 1,
   "metadata": {},
   "outputs": [
    {
     "name": "stdout",
     "output_type": "stream",
     "text": [
      "2021 년\n",
      "1 월\n",
      "22 일\n",
      "11 시\n",
      "10 분\n",
      "54 초\n",
      "2021년 1월 22일 11시 10분 54초\n",
      "현재 시각은 11시로 오전입니다.\n"
     ]
    }
   ],
   "source": [
    "import datetime\n",
    "\n",
    "now=datetime.datetime.now()\n",
    "\n",
    "print(now.year, \"년\")\n",
    "print(now.month, \"월\")\n",
    "print(now.day, \"일\")\n",
    "print(now.hour, \"시\")\n",
    "print(now.minute, \"분\")\n",
    "print(now.second, \"초\")\n",
    "\n",
    "print(\"{}년 {}월 {}일 {}시 {}분 {}초\".format(\n",
    "now.year,now.month,now.day,now.hour,now.minute,now.second\n",
    "))\n",
    "\n",
    "if now.hour < 12:\n",
    "    print(f\"현재 시각은 {now.hour}시로 오전입니다.\")\n",
    "else:\n",
    "    print(f\"현재 시각은 {now.hour}시로 오후입니다.\")\n",
    "\n",
    "#계절은 넘어가장"
   ]
  },
  {
   "cell_type": "markdown",
   "metadata": {},
   "source": [
    "### condition 1"
   ]
  },
  {
   "cell_type": "code",
   "execution_count": null,
   "metadata": {},
   "outputs": [],
   "source": [
    "number=input(\"정수 입력 > \")\n",
    "\n",
    "num=int(number)\n",
    "last_character=number[-1]\n",
    "last_number=int(last_character)\n",
    "\n",
    "if last_character in \"02468\":\n",
    "    print(\"짝수\")\n",
    "else:\n",
    "    print(\"홀수\")\n",
    "\n",
    "print()\n",
    "print()\n",
    "print()\n",
    "\n",
    "if num%2==0:\n",
    "    print(\"짝수\")\n",
    "else:\n",
    "    print(\"홀수\")\n"
   ]
  },
  {
   "cell_type": "markdown",
   "metadata": {},
   "source": [
    "# 3.1"
   ]
  },
  {
   "cell_type": "code",
   "execution_count": 4,
   "metadata": {},
   "outputs": [
    {
     "name": "stdout",
     "output_type": "stream",
     "text": [
      "True\n",
      "> first number100\n",
      "> second number10\n",
      "\n",
      "처음 입력했던 100가 10보다 더 큽니다.\n"
     ]
    }
   ],
   "source": [
    "#2\n",
    "x=10\n",
    "if x>4:\n",
    "    print(\"True\")\n",
    "#4\n",
    "a=int(input(\"> first number \"))\n",
    "b=int(input(\"> second number \"))\n",
    "print()\n",
    "if a>b:\n",
    "    print(f\"처음 입력했던 {a}가 {b}보다 더 큽니다.\")\n",
    "else:\n",
    "    print(f\"두번째로 입력했던 {b}가 {a}보다 더 큽니다.\")\n"
   ]
  },
  {
   "cell_type": "markdown",
   "metadata": {},
   "source": [
    "### condition5"
   ]
  },
  {
   "cell_type": "code",
   "execution_count": null,
   "metadata": {},
   "outputs": [],
   "source": [
    "import datetime\n",
    "\n",
    "now=datetime.datetime.now()\n",
    "month=now.month\n",
    "\n",
    "if 3<= month <=5:\n",
    "    print(\"봄\")\n",
    "elif 6<=month <=8:\n",
    "    print(\"summer\")\n",
    "elif 9<=month <=11:\n",
    "    print(\"autumn\")\n",
    "else:\n",
    "    print(\"winter\")"
   ]
  },
  {
   "cell_type": "markdown",
   "metadata": {},
   "source": [
    "### condition6,7"
   ]
  },
  {
   "cell_type": "code",
   "execution_count": null,
   "metadata": {},
   "outputs": [],
   "source": [
    "score=float(input(\"학점 입력 > \"))\n",
    "\n",
    "if score ==4.5:\n",
    "    print(\"god\")\n",
    "elif score >= 4.2:\n",
    "    print(\"love of professor\")\n",
    "elif score >=3.5:\n",
    "    print(\"guardian\")\n",
    "elif score >=2.8:\n",
    "    print(\"just human\")\n",
    "elif score >=2.3:\n",
    "    print(\"partisan\")\n",
    "elif score >= 1.75:\n",
    "    print(\"play boy\")\n",
    "elif score >= 1.0:\n",
    "    print(\"slave\")\n",
    "elif score >= 0.5:\n",
    "    print(\"insect\")\n",
    "elif score >0:\n",
    "    print(\"mitocondria\")\n",
    "else:\n",
    "    print(\"revoultion\")"
   ]
  },
  {
   "cell_type": "markdown",
   "metadata": {},
   "source": [
    "### false.value"
   ]
  },
  {
   "cell_type": "code",
   "execution_count": null,
   "metadata": {},
   "outputs": [],
   "source": [
    "print(\"# if 조건문 bool 판별\")\n",
    "\n",
    "if 0:\n",
    "    print(\"true\")\n",
    "else:\n",
    "    print(\"false\")\n",
    "\n",
    "if \"\":\n",
    "    print(\"true\")\n",
    "else:\n",
    "    print(\"false\")"
   ]
  },
  {
   "cell_type": "markdown",
   "metadata": {},
   "source": [
    "# passkeyword"
   ]
  },
  {
   "cell_type": "code",
   "execution_count": null,
   "metadata": {},
   "outputs": [],
   "source": [
    "number=int(input(\"숫자 입력 > \"))\n",
    "\n",
    "if number>0:\n",
    "    #미구현\n",
    "    pass\n",
    "else:\n",
    "    #미구현\n",
    "    pass\n",
    "\n",
    "if number>0:\n",
    "    #미구현\n",
    "    raise NotImplementedError\n",
    "else:\n",
    "    #미구현\n",
    "    raise NotImplementedError"
   ]
  },
  {
   "cell_type": "markdown",
   "metadata": {},
   "source": [
    "### 3.2"
   ]
  },
  {
   "cell_type": "code",
   "execution_count": 5,
   "metadata": {},
   "outputs": [
    {
     "name": "stdout",
     "output_type": "stream",
     "text": [
      "조건에 맞습니다.\n",
      "태어난 해를 입력해 주세요 > 6\n",
      "6\n",
      "범 띠입니다.\n"
     ]
    }
   ],
   "source": [
    "#2\n",
    "x=15\n",
    "if 10<x<20:\n",
    "    print(\"조건에 맞습니다.\")\n",
    "print()\n",
    "#3\n",
    "str_input = input(\"태어난 해를 입력해 주세요 > \")\n",
    "birth_year = (int(str_input)) % 12\n",
    "print(birth_year)\n",
    "if birth_year == 0:\n",
    "    print(\"원숭이 띠입니다.\")\n",
    "elif birth_year == 1:\n",
    "    print(\"닭 띠입니다.\")\n",
    "elif birth_year == 2:\n",
    "    print(\"개 띠입니다.\")\n",
    "elif birth_year == 3:\n",
    "    print(\"돼지 띠입니다.\")\n",
    "elif birth_year == 4:\n",
    "    print(\"쥐 띠입니다.\")\n",
    "elif birth_year == 5:\n",
    "    print(\"소 띠입니다.\")\n",
    "elif birth_year == 6:\n",
    "    print(\"범 띠입니다.\")\n",
    "elif birth_year == 7:\n",
    "    print(\"토끼 띠입니다.\")\n",
    "elif birth_year == 8:\n",
    "    print(\"용 띠입니다.\")\n",
    "elif birth_year == 9:\n",
    "    print(\"뱀 띠입니다.\")\n",
    "elif birth_year == 10:\n",
    "    print(\"말 띠입니다.\")\n",
    "else:\n",
    "    print(\"양 띠입니다.\")\n"
   ]
  },
  {
   "cell_type": "code",
   "execution_count": null,
   "metadata": {},
   "outputs": [],
   "source": []
  },
  {
   "cell_type": "code",
   "execution_count": null,
   "metadata": {},
   "outputs": [],
   "source": []
  }
 ],
 "metadata": {
  "kernelspec": {
   "display_name": "Python 3",
   "language": "python",
   "name": "python3"
  },
  "language_info": {
   "codemirror_mode": {
    "name": "ipython",
    "version": 3
   },
   "file_extension": ".py",
   "mimetype": "text/x-python",
   "name": "python",
   "nbconvert_exporter": "python",
   "pygments_lexer": "ipython3",
   "version": "3.8.3"
  }
 },
 "nbformat": 4,
 "nbformat_minor": 4
}
