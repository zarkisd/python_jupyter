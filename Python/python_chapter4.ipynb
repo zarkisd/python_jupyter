{
 "cells": [
  {
   "cell_type": "markdown",
   "metadata": {},
   "source": [
    "### list01"
   ]
  },
  {
   "cell_type": "code",
   "execution_count": null,
   "metadata": {},
   "outputs": [],
   "source": [
    "list_a=[1,2,3]\n",
    "list_b=[4,5,6]\n",
    "\n",
    "print(\"#리스트\")\n",
    "print(\"list_a = {}\".format(list_a))\n",
    "print(\"list_b = {}\".format(list_b))\n",
    "print()\n",
    "\n",
    "print(\"list_a + list_b = {}\".format(list_a+list_b))\n",
    "print(\"list_a *3 = {}\".format(list_a*3))\n",
    "\n",
    "print(\"len(list_a) = {}\".format(len(list_a)))\n",
    "\n",
    "list_a.append(4)\n",
    "list_a.append(5)\n",
    "print(list_a)\n",
    "print()\n",
    "\n",
    "list_a.insert(0,10)\n",
    "print(list_a)\n",
    "\n",
    "list_a.extend([4,5,6,7])\n",
    "print(list_a)\n",
    "#list_a+list_b 와 list_a.extend(list_b)는 기능은 같지만 과정이 다르다 (비파괴/파괴)\n",
    "#인덱스로 제거하기 del, pop\n",
    "# 둘다 인덱스\n",
    "del list_a[1]\n",
    "print(\"del list_a[1] : \",list_a)\n",
    "list_a.pop(2)\n",
    "print(\"list_a.pop(2) :  \",list_a)\n",
    "#값은 remove\n",
    "# 전체 싹 제거는 list_a.clear"
   ]
  },
  {
   "cell_type": "markdown",
   "metadata": {},
   "source": [
    "### for_list"
   ]
  },
  {
   "cell_type": "code",
   "execution_count": null,
   "metadata": {},
   "outputs": [],
   "source": [
    "array=[273,32,103,57,52]\n",
    "\n",
    "for element in array:\n",
    "    print(element)"
   ]
  },
  {
   "cell_type": "markdown",
   "metadata": {},
   "source": [
    "### 4.1"
   ]
  },
  {
   "cell_type": "code",
   "execution_count": 2,
   "metadata": {},
   "outputs": [
    {
     "name": "stdout",
     "output_type": "stream",
     "text": [
      "[0, 1, 2, 4, 5, 6, 7, 0, 1, 2, 3, 4, 5, 6, 7, 10]\n",
      "\n",
      "- 100 이상의 수 : 273\n",
      "- 100 이상의 수 : 103\n",
      "- 100 이상의 수 : 800\n",
      "\n",
      "273는 홀수입니다.\n",
      "103는 홀수입니다.\n",
      "5는 홀수입니다.\n",
      "32는 짝수입니다.\n",
      "65는 홀수입니다.\n",
      "9는 홀수입니다.\n",
      "72는 짝수입니다.\n",
      "800는 짝수입니다.\n",
      "99는 홀수입니다.\n",
      "\n",
      "273는 3자릿수입니다.\n",
      "103는 3자릿수입니다.\n",
      "5는 1자릿수입니다.\n",
      "32는 2자릿수입니다.\n",
      "65는 2자릿수입니다.\n",
      "9는 1자릿수입니다.\n",
      "72는 2자릿수입니다.\n",
      "800는 3자릿수입니다.\n",
      "99는 2자릿수입니다.\n",
      "\n",
      "\n",
      "1\n",
      "2\n",
      "3\n",
      "4\n",
      "5\n",
      "6\n",
      "7\n",
      "8\n",
      "9\n",
      "\n",
      "[[1, 4, 7], [2, 5, 8], [3, 6, 9]]\n"
     ]
    }
   ],
   "source": [
    "#1\n",
    "list_a=[0,1,2,3,4,5,6,7]\n",
    "\n",
    "list_a.extend(list_a)\n",
    "list_a.append(10)\n",
    "list_a.insert(3,0)\n",
    "list_a.remove(3)\n",
    "list_a.pop(3)\n",
    "#list_a.clear\n",
    "print(list_a)\n",
    "print()\n",
    "#2\n",
    "numbers=[273,103,5,32,65,9,72,800,99]\n",
    "for number in numbers:\n",
    "    if number > 100:\n",
    "        print(f\"- 100 이상의 수 : {number}\")\n",
    "print()\n",
    "#3.1\n",
    "for number in numbers:\n",
    "    if number%2==0:\n",
    "        print(f\"{number}는 짝수입니다.\")\n",
    "    else:\n",
    "        print(f\"{number}는 홀수입니다.\")\n",
    "print()\n",
    "#3.2\n",
    "import math\n",
    "for number in numbers:\n",
    "    #로그사용해서 자릿수 구하기\n",
    "    if int(math.log10(number))+1 == 1:\n",
    "        print(f\"{number}는 1자릿수입니다.\")\n",
    "    elif int(math.log10(number))+1 == 2:\n",
    "        print(f\"{number}는 2자릿수입니다.\")\n",
    "    else:\n",
    "        print(f\"{number}는 3자릿수입니다.\")\n",
    "print()\n",
    "## 그냥 len() 함수써서 길이 구하면 끝나는 문제...\n",
    "print()\n",
    "#4.\n",
    "list_of_list=[[1,2,3],[4,5,6,7],[8,9]]\n",
    "for first in list_of_list:\n",
    "    for index in first:\n",
    "        print(index)\n",
    "\n",
    "print()\n",
    "#5.\n",
    "\n",
    "numbers=[1,2,3,4,5,6,7,8,9]\n",
    "output=[[],[],[]]\n",
    "\n",
    "for number in numbers:\n",
    "    output[(number-1)%3].append(number)\n",
    "\n",
    "print(output)"
   ]
  },
  {
   "cell_type": "markdown",
   "metadata": {},
   "source": [
    "### dict01"
   ]
  },
  {
   "cell_type": "code",
   "execution_count": null,
   "metadata": {},
   "outputs": [],
   "source": [
    "dictionary={\n",
    "    \"name\":\"7D 건조 망고\",\n",
    "    \"type\":\"당절임\",\n",
    "    \"ingredient\":[\"망고\", \"설탕\", \"메타중아황산나트륨\", \"치자황색소\"],\n",
    "    \"origin\":\"필리핀\"\n",
    "}\n",
    "\n",
    "print(f\"name : {dictionary['name']}\")\n",
    "print(f\"type : {dictionary['type']}\")\n",
    "print(f\"ingredient : {dictionary['ingredient']}\")\n",
    "print(f\"origin : {dictionary['origin']}\")\n",
    "print()\n",
    "dictionary[\"name\"]=\"8D 건조 망고\"\n",
    "print(f\"name : {dictionary['name']}\")"
   ]
  },
  {
   "cell_type": "markdown",
   "metadata": {},
   "source": [
    "### dict02"
   ]
  },
  {
   "cell_type": "code",
   "execution_count": null,
   "metadata": {},
   "outputs": [],
   "source": [
    "dictionary={}\n",
    "\n",
    "print(f\"요소 추가 이전 : {dictionary}\")\n",
    "\n",
    "dictionary[\"name\"]=\"new name\"\n",
    "dictionary[\"head\"]=\"new spirit\"\n",
    "dictionary[\"body\"]=\"healthy body\"\n",
    "print()\n",
    "print(f\"요소 추가 이후 : {dictionary}\")"
   ]
  },
  {
   "cell_type": "markdown",
   "metadata": {},
   "source": [
    "### dict03"
   ]
  },
  {
   "cell_type": "code",
   "execution_count": null,
   "metadata": {},
   "outputs": [],
   "source": [
    "dictionary={\n",
    "    \"name\":\"7D 건조 망고\",\n",
    "    \"type\":\"당절임\"\n",
    "  \n",
    "}\n",
    "  \n",
    "print(\"요소 제거 이전 : \",dictionary)\n",
    "del dictionary[\"name\"]\n",
    "del dictionary[\"type\"]\n",
    "print()\n",
    "print(\"요소 제거 이전 : \",dictionary)"
   ]
  },
  {
   "cell_type": "markdown",
   "metadata": {},
   "source": [
    "### kye_in"
   ]
  },
  {
   "cell_type": "code",
   "execution_count": null,
   "metadata": {},
   "outputs": [],
   "source": [
    "dictionary={\n",
    "    \"name\":\"7D 건조 망고\",\n",
    "    \"type\":\"당절임\",\n",
    "    \"ingredient\":[\"망고\", \"설탕\", \"메타중아황산나트륨\", \"치자황색소\"],\n",
    "    \"origin\":\"필리핀\"\n",
    "}\n",
    "\n",
    "key=input(\"접근하고자 하는 키: \")\n",
    "\n",
    "if key in dictionary:\n",
    "    print(dictionary[key])\n",
    "else:\n",
    "    print(\"존재하지 않는다.\")\n",
    "\n",
    "value=dictionary.get(key)\n",
    "print(f\"값 : {value}\")\n",
    "\n",
    "if value==None:\n",
    "    print(\"존재하지않는키에 접근\")"
   ]
  },
  {
   "cell_type": "markdown",
   "metadata": {},
   "source": [
    "### for_dict"
   ]
  },
  {
   "cell_type": "code",
   "execution_count": null,
   "metadata": {},
   "outputs": [],
   "source": [
    "dictionary={\n",
    "    \"name\":\"7D 건조 망고\",\n",
    "    \"type\":\"당절임\",\n",
    "    \"ingredient\":[\"망고\", \"설탕\", \"메타중아황산나트륨\", \"치자황색소\"],\n",
    "    \"origin\":\"필리핀\"\n",
    "}\n",
    "\n",
    "for key in dictionary:\n",
    "    print(f\"{key} : {dictionary.get(key)}\")"
   ]
  },
  {
   "cell_type": "markdown",
   "metadata": {},
   "source": [
    "###  4.2"
   ]
  },
  {
   "cell_type": "code",
   "execution_count": 1,
   "metadata": {},
   "outputs": [
    {
     "name": "stdout",
     "output_type": "stream",
     "text": [
      "{'name': '구름'}\n",
      "{}\n",
      "# 우리 동네 애완 동물들\n",
      "구름 5살\n",
      "초코 3살\n",
      "아지 1살\n",
      "호랑이 1살\n",
      "[3, 8, 8, 3, 3, 2, 6, 3, 2, 9, 3, 3, 6, 5, 5, 9, 3, 3, 1, 9]\n",
      "{3: 8, 8: 2, 2: 2, 6: 2, 9: 3, 5: 2, 1: 1}\n",
      "\n",
      "name : 기사\n",
      "level : 12\n",
      "sword : 불꽃의 검\n",
      "armor : 풀플레이트\n",
      "skill : 베기\n",
      "skill : 세게 베기\n",
      "skill : 아주 세게 베기\n"
     ]
    }
   ],
   "source": [
    "# 1\n",
    "dict_a = {}\n",
    "dict_a[\"name\"] = \"구름\"\n",
    "dict_b = {\"name\": \"구름\"}\n",
    "del dict_b[\"name\"]\n",
    "print(dict_a)\n",
    "print(dict_b)\n",
    "# 2\n",
    "pets = [{\"name\": \"구름\", \"age\": 5}, {\"name\": \"초코\", \"age\": 3},\n",
    "        {\"name\": \"아지\", \"age\": 1}, {\"name\": \"호랑이\", \"age\": 1}]\n",
    "print(\"# 우리 동네 애완 동물들\")\n",
    "for dic in pets:\n",
    "    print(f\"{dic['name']} {dic['age']}살\")\n",
    "#3\n",
    "#랜덤 난수 생성\n",
    "import random\n",
    "numbers=[]\n",
    "for i in range(1,21):\n",
    "    i=random.randrange(1,10)\n",
    "    numbers.append(i)\n",
    "print(numbers)\n",
    "\n",
    "counter={}\n",
    "\n",
    "for number in numbers:\n",
    "    # 있으면 value+1 해주고\n",
    "    if number in counter:\n",
    "        counter[number]=counter[number]+1\n",
    "    #첫번째는 카운터에 없으니까 1 해주고\n",
    "    #그다음부터 나온 숫자가 또 없으면 1하나 생성해주고\n",
    "    else:\n",
    "        counter[number]=1\n",
    "    \n",
    "# 정렬하고싶으면 이거        \n",
    "#counter=sorted(counter.items())\n",
    "\n",
    "print(counter)\n",
    "#4\n",
    "character={\n",
    "    \"name\":\"기사\",\n",
    "    \"level\":12,\n",
    "    \"items\":{\n",
    "        \"sword\":\"불꽃의 검\",\n",
    "        \"armor\":\"풀플레이트\"\n",
    "    },\n",
    "    \"skill\":[\"베기\", \"세게 베기\", \"아주 세게 베기\"]\n",
    "}\n",
    "print()\n",
    "\n",
    "for key in character:\n",
    "    if type(character[key]) is str:\n",
    "        print(f\"{key} : {character[key]}\")\n",
    "    elif type(character[key]) is list:\n",
    "        for i in character[key]:\n",
    "             print(f\"{key} : {i}\")\n",
    "    elif type(character[key]) is dict:\n",
    "        for i in character[key]:\n",
    "            # i는 sword, armor다\n",
    "            # character[key]=items\n",
    "            # items[sword]=불꽃의검\n",
    "            print(f\"{i} : {character[key][i]}\")\n",
    "    else:\n",
    "        print(f\"{key} : {character[key]}\")\n"
   ]
  },
  {
   "cell_type": "markdown",
   "metadata": {},
   "source": [
    "### for_range"
   ]
  },
  {
   "cell_type": "code",
   "execution_count": null,
   "metadata": {},
   "outputs": [],
   "source": [
    "for i in range(5):\n",
    "    print(f\"{str(i)}=반복변수\")\n",
    "print()\n",
    "for i in range(5,10):\n",
    "    print(f\"{str(i)}=반복변수\")\n",
    "print()\n",
    "for i in range(0,10,3):\n",
    "    print(f\"{str(i)}=반복변수\")\n",
    "print()\n",
    "#list_range01.py\n",
    "#가장 많이 사용\n",
    "array=[273,32,103,57,52]\n",
    "for i in range(len(array)):\n",
    "    print(f\"{i}번째 반복 : {array[i]}\")\n",
    "#reversed_for01.py\n",
    "print()\n",
    "for i in range(4,0-1,-1):\n",
    "    print(f\"현재 반복 변수 : {i}\")\n",
    "print()\n",
    "for i in reversed(range(5)):\n",
    "    print(f\"현재 반복 변수 : {i}\")"
   ]
  },
  {
   "cell_type": "markdown",
   "metadata": {},
   "source": [
    "### infinite_loop\n"
   ]
  },
  {
   "cell_type": "code",
   "execution_count": null,
   "metadata": {},
   "outputs": [],
   "source": [
    "# count=0\n",
    "# while True:\n",
    "#     print(\".\",end=\"\")\n",
    "#     count+=1\n",
    "#     if count==150:\n",
    "#         break\n",
    "\n",
    "i=0\n",
    "while i<10:\n",
    "    print(f\"{i}번째 반복입니다.\")\n",
    "    i+=1\n",
    "\n",
    "list_test=[1,2,1,2]\n",
    "value=2\n",
    "while value in list_test:\n",
    "    list_test.remove(value)\n",
    "print(list_test)\n",
    "\n",
    "#통신할때 사용\n",
    "# import time\n",
    "# number=0\n",
    "# target_tick=time.time()+1\n",
    "# while time.time() < target_tick:\n",
    "#     number+=1\n",
    "# print(f\"1초 동안 {number}반복했습니다.\")\n",
    "\n",
    "i=0\n",
    "while True:\n",
    "    print(f\"{i}번째 반복문입니다.\")\n",
    "    i+=1\n",
    "    input_text=input(\"종료하시겠습니까?\")\n",
    "    if input_text in [\"y\",\"Y\"]:\n",
    "        print(\"반복을 종료합니다.\")\n",
    "        break\n",
    "\n",
    "numbers=[5,15,6,20,7,25]\n",
    "for number in numbers:\n",
    "    if number<10:\n",
    "        continue\n",
    "    print(number)"
   ]
  },
  {
   "cell_type": "markdown",
   "metadata": {},
   "source": [
    "###  4.3"
   ]
  },
  {
   "cell_type": "code",
   "execution_count": 3,
   "metadata": {},
   "outputs": [
    {
     "ename": "TypeError",
     "evalue": "'int' object is not subscriptable",
     "output_type": "error",
     "traceback": [
      "\u001b[1;31m---------------------------------------------------------------------------\u001b[0m",
      "\u001b[1;31mTypeError\u001b[0m                                 Traceback (most recent call last)",
      "\u001b[1;32m<ipython-input-3-9a0b9722d4d6>\u001b[0m in \u001b[0;36m<module>\u001b[1;34m\u001b[0m\n\u001b[0;32m      1\u001b[0m \u001b[1;31m#1\u001b[0m\u001b[1;33m\u001b[0m\u001b[1;33m\u001b[0m\u001b[1;33m\u001b[0m\u001b[0m\n\u001b[0;32m      2\u001b[0m \u001b[1;32mfor\u001b[0m \u001b[0mi\u001b[0m \u001b[1;32min\u001b[0m \u001b[0mrange\u001b[0m\u001b[1;33m(\u001b[0m\u001b[1;36m4\u001b[0m\u001b[1;33m,\u001b[0m\u001b[1;36m6\u001b[0m\u001b[1;33m)\u001b[0m\u001b[1;33m:\u001b[0m\u001b[1;33m\u001b[0m\u001b[1;33m\u001b[0m\u001b[0m\n\u001b[1;32m----> 3\u001b[1;33m     \u001b[0mprint\u001b[0m\u001b[1;33m(\u001b[0m\u001b[1;34m\"{[i]}\"\u001b[0m\u001b[1;33m.\u001b[0m\u001b[0mformat\u001b[0m\u001b[1;33m(\u001b[0m\u001b[0mi\u001b[0m\u001b[1;33m)\u001b[0m\u001b[1;33m,\u001b[0m \u001b[0mend\u001b[0m\u001b[1;33m=\u001b[0m\u001b[1;34m\" \"\u001b[0m\u001b[1;33m)\u001b[0m\u001b[1;33m\u001b[0m\u001b[1;33m\u001b[0m\u001b[0m\n\u001b[0m\u001b[0;32m      4\u001b[0m \u001b[0mprint\u001b[0m\u001b[1;33m(\u001b[0m\u001b[1;33m)\u001b[0m\u001b[1;33m\u001b[0m\u001b[1;33m\u001b[0m\u001b[0m\n\u001b[0;32m      5\u001b[0m \u001b[1;32mfor\u001b[0m \u001b[0mi\u001b[0m \u001b[1;32min\u001b[0m \u001b[0mrange\u001b[0m\u001b[1;33m(\u001b[0m\u001b[1;36m7\u001b[0m\u001b[1;33m,\u001b[0m\u001b[1;36m0\u001b[0m\u001b[1;33m,\u001b[0m\u001b[1;33m-\u001b[0m\u001b[1;36m1\u001b[0m\u001b[1;33m)\u001b[0m\u001b[1;33m:\u001b[0m\u001b[1;33m\u001b[0m\u001b[1;33m\u001b[0m\u001b[0m\n",
      "\u001b[1;31mTypeError\u001b[0m: 'int' object is not subscriptable"
     ]
    }
   ],
   "source": [
    "#1\n",
    "for i in range(4,6):\n",
    "    print(\"{i}\".format(i), end=\" \")\n",
    "print()\n",
    "for i in range(7,0,-1):\n",
    "    print(\"{}\".format(i), end=\" \")\n",
    "print()\n",
    "for i in range(3,10,3):\n",
    "    print(\"{}\".format(i), end=\" \")\n",
    "print()\n",
    "print()\n",
    "#2\n",
    "key_list=[\"name\", \"hp\", \"mp\", \"lelve\"]\n",
    "value_list=[\"기사\", 200, 30, 5]\n",
    "character={}\n",
    "\n",
    "for i in range(0,4):\n",
    "    character[key_list[i]]=value_list[i]\n",
    "\n",
    "print(character)\n",
    "print()\n",
    "#3\n",
    "limit=10000\n",
    "i=1\n",
    "sum_value=0\n",
    "while True:\n",
    "    sum_value+=i\n",
    "    i+=1\n",
    "    if sum_value > 10000:\n",
    "        print(f\"{i-1}을 더할 때 {limit}을 넘으며 그떄의 값은 {sum_value}입니다.\")\n",
    "        break\n",
    "print()\n",
    "\n",
    "#4\n",
    "print()\n",
    "max_value=0\n",
    "a=0\n",
    "b=0\n",
    "\n",
    "for i in range(1,100):\n",
    "    j=100-i\n",
    "    if max_value<i*j:\n",
    "        max_value=i*j\n",
    "        a=i\n",
    "        b=j\n",
    "\n",
    "print(f\"최대가 되는 경우 : {a}*{b}={max_value}\")\n",
    "\n",
    "\n"
   ]
  },
  {
   "cell_type": "markdown",
   "metadata": {},
   "source": [
    "### reversed.py"
   ]
  },
  {
   "cell_type": "code",
   "execution_count": 7,
   "metadata": {},
   "outputs": [
    {
     "name": "stdout",
     "output_type": "stream",
     "text": [
      "#reversed() 함수\n",
      "for i in reversed([1,2,3,4,5])\n",
      "list(reversed([1,2,3,4,5])): [5, 4, 3, 2, 1]\n",
      "#reversed() 함수와 반목문\n",
      "for i in reversed([1,2,3,4,5]) : \n",
      "- 5\n",
      "- 4\n",
      "- 3\n",
      "- 2\n",
      "- 1\n"
     ]
    }
   ],
   "source": [
    "list_a=[1,2,3,4,5]\n",
    "list_reversed=reversed(list_a)\n",
    "print(\"#reversed() 함수\")\n",
    "print(\"for i in reversed([1,2,3,4,5])\")\n",
    "print(f\"list(reversed([1,2,3,4,5])): {list(list_reversed)}\")\n",
    "\n",
    "print(\"#reversed() 함수와 반목문\")\n",
    "print(\"for i in reversed([1,2,3,4,5]) : \")\n",
    "for i in reversed(list_a):\n",
    "    print(\"-\",i)"
   ]
  },
  {
   "cell_type": "markdown",
   "metadata": {},
   "source": [
    "### enumerate.py"
   ]
  },
  {
   "cell_type": "code",
   "execution_count": 13,
   "metadata": {},
   "outputs": [
    {
     "name": "stdout",
     "output_type": "stream",
     "text": [
      "#단순 출력\n",
      "['요소A', '요소B', '요소C']\n",
      "\n",
      "# enumerate() 함수 적용 출력\n",
      "<enumerate object at 0x000001F756C0BFC0>\n",
      "\n",
      "# list() 함수로 강제 변환 출력\n",
      "[(0, '요소A'), (1, '요소B'), (2, '요소C')]\n",
      "\n",
      "# 반복문 조합\n",
      "0번째 요소는 요소A입니다.\n",
      "1번째 요소는 요소B입니다.\n",
      "2번째 요소는 요소C입니다.\n"
     ]
    }
   ],
   "source": [
    "example_list=[\"요소A\", \"요소B\", \"요소C\"]\n",
    "print('#단순 출력')\n",
    "print(example_list)\n",
    "print()\n",
    "\n",
    "print(\"# enumerate() 함수 적용 출력\")\n",
    "print(enumerate(example_list))\n",
    "print()\n",
    "\n",
    "print(\"# list() 함수로 강제 변환 출력\")\n",
    "print(list(enumerate(example_list)))\n",
    "print()\n",
    "\n",
    "print(\"# 반복문 조합\")\n",
    "for i, value in enumerate(example_list):\n",
    "    print(f\"{i}번째 요소는 {value}입니다.\")"
   ]
  },
  {
   "cell_type": "markdown",
   "metadata": {},
   "source": [
    "## items.py"
   ]
  },
  {
   "cell_type": "code",
   "execution_count": 16,
   "metadata": {},
   "outputs": [
    {
     "name": "stdout",
     "output_type": "stream",
     "text": [
      "# 딕셔너리의 items()함수\n",
      "items() : dict_items([('키A', '값A'), ('키B', '값B'), ('키C', '값C')])\n",
      "\n",
      "# 딕셔너리의 items() 함수와 반복문 조합하기\n",
      "dictionary[키A]=값A\n",
      "dictionary[키B]=값B\n",
      "dictionary[키C]=값C\n"
     ]
    }
   ],
   "source": [
    "example_dictionary={\n",
    "    \"키A\":\"값A\",\n",
    "    \"키B\":\"값B\",\n",
    "    \"키C\":\"값C\"\n",
    "}\n",
    "print(\"# 딕셔너리의 items()함수\")\n",
    "print(f\"items() : {example_dictionary.items()}\")\n",
    "print()\n",
    "\n",
    "print(\"# 딕셔너리의 items() 함수와 반복문 조합하기\")\n",
    "\n",
    "for key, element in example_dictionary.items():\n",
    "    print(f\"dictionary[{key}]={element}\")"
   ]
  },
  {
   "cell_type": "markdown",
   "metadata": {},
   "source": [
    "## for_list01.py"
   ]
  },
  {
   "cell_type": "code",
   "execution_count": 17,
   "metadata": {},
   "outputs": [
    {
     "name": "stdout",
     "output_type": "stream",
     "text": [
      "[0, 4, 16, 36, 64, 100, 144, 196, 256, 324]\n"
     ]
    }
   ],
   "source": [
    "array=[]\n",
    "for i in range(0,20,2):\n",
    "    array.append(i*i)\n",
    "print(array)"
   ]
  },
  {
   "cell_type": "markdown",
   "metadata": {},
   "source": [
    "## list_in.py"
   ]
  },
  {
   "cell_type": "code",
   "execution_count": 18,
   "metadata": {},
   "outputs": [
    {
     "name": "stdout",
     "output_type": "stream",
     "text": [
      "[0, 4, 16, 36, 64, 100, 144, 196, 256, 324]\n"
     ]
    }
   ],
   "source": [
    "array=[i*i for i in range(0,20,2)]\n",
    "print(array)"
   ]
  },
  {
   "cell_type": "code",
   "execution_count": 19,
   "metadata": {},
   "outputs": [
    {
     "name": "stdout",
     "output_type": "stream",
     "text": [
      "['사과', '자두', '바나나', '체리']\n"
     ]
    }
   ],
   "source": [
    "array=[\"사과\", \"자두\", \"초콜릿\", \"바나나\", \"체리\"]\n",
    "output=[fruit for fruit in array if fruit!=\"초콜릿\"]\n",
    "print(output)"
   ]
  },
  {
   "cell_type": "markdown",
   "metadata": {},
   "source": [
    "#  if_string.py"
   ]
  },
  {
   "cell_type": "code",
   "execution_count": 20,
   "metadata": {},
   "outputs": [
    {
     "name": "stdout",
     "output_type": "stream",
     "text": [
      "정수 입력 > 123\n",
      "    입력한 문자열은 123입니다.\n",
      "    123는(은) 홀수입니다.\n"
     ]
    }
   ],
   "source": [
    "number=int(input(\"정수 입력 > \"))\n",
    "if number%2==0:\n",
    "    print(\"\"\"\\\n",
    "    입력한 문자열은 {}입니다.\n",
    "    {}는(은) 짝수입니다.\"\"\".format(number, number))\n",
    "else:\n",
    "     print(\"\"\"\\\n",
    "    입력한 문자열은 {}입니다.\n",
    "    {}는(은) 홀수입니다.\"\"\".format(number, number))"
   ]
  },
  {
   "cell_type": "markdown",
   "metadata": {},
   "source": [
    "# if_string01.py"
   ]
  },
  {
   "cell_type": "code",
   "execution_count": 22,
   "metadata": {},
   "outputs": [
    {
     "name": "stdout",
     "output_type": "stream",
     "text": [
      "정수 입력 > 15\n",
      "입력한 문자열은 15입니다.\n",
      "15는(은) 홀수입니다.\n",
      "입력한 문자열은 15입니다. 15는(은) 홀수입니다.\n"
     ]
    }
   ],
   "source": [
    "number=int(input(\"정수 입력 > \"))\n",
    "if number%2==0:\n",
    "    print(\"\"\"입력한 문자열은 {}입니다.\n",
    "{}는(은) 짝수입니다.\"\"\".format(number, number))\n",
    "else:\n",
    "     print(\"\"\"입력한 문자열은 {}입니다.\n",
    "{}는(은) 홀수입니다.\"\"\".format(number, number))\n",
    "        \n",
    "if number%2==0:\n",
    "    print(\"\"\"입력한 문자열은 {}입니다. {}는(은) 짝수입니다.\"\"\".format(number, number))\n",
    "else:\n",
    "    print(\"\"\"입력한 문자열은 {}입니다. {}는(은) 홀수입니다.\"\"\".format(number, number))"
   ]
  },
  {
   "cell_type": "markdown",
   "metadata": {},
   "source": [
    "# string01.py"
   ]
  },
  {
   "cell_type": "code",
   "execution_count": 24,
   "metadata": {},
   "outputs": [
    {
     "name": "stdout",
     "output_type": "stream",
     "text": [
      "이렇게 입력해도 하나의 문자열로 연결되며 생성됩니다.\n",
      "<class 'str'>\n"
     ]
    }
   ],
   "source": [
    "test=(\n",
    "\"이렇게 입력해도 \"\n",
    "    \"하나의 문자열로 연결되며 \"\n",
    "        \"생성됩니다.\"\n",
    ")\n",
    "print(test)\n",
    "print(type(test))"
   ]
  },
  {
   "cell_type": "markdown",
   "metadata": {},
   "source": [
    "# string02.py"
   ]
  },
  {
   "cell_type": "code",
   "execution_count": 25,
   "metadata": {},
   "outputs": [
    {
     "name": "stdout",
     "output_type": "stream",
     "text": [
      "정수 입력 > 125\n",
      "입력한 문자열은 125입니다.\n",
      "125는(은) 홀수입니다.\n"
     ]
    }
   ],
   "source": [
    "number=int(input(\"정수 입력 > \"))\n",
    "if number%2==0:\n",
    "    print((\n",
    "        \"입력한 문자열은 {}입니다.\\n\"\n",
    "        \"{}는(은) 짝수입니다.\"\n",
    "    ).format(number, number))\n",
    "else:\n",
    "     print((\n",
    "        \"입력한 문자열은 {}입니다.\\n\"\n",
    "        \"{}는(은) 홀수입니다.\"\n",
    "    ).format(number, number))"
   ]
  },
  {
   "cell_type": "markdown",
   "metadata": {},
   "source": [
    "# string03.py"
   ]
  },
  {
   "cell_type": "code",
   "execution_count": 26,
   "metadata": {},
   "outputs": [
    {
     "name": "stdout",
     "output_type": "stream",
     "text": [
      "정수 입력 > 112\n",
      "입력한 문자열은 112입니다.\n",
      "112은 짝수입니다.\n"
     ]
    }
   ],
   "source": [
    "number=int(input(\"정수 입력 > \"))\n",
    "if number%2==0:\n",
    "    print(\"\\n\".join([\"입력한 문자열은 {}입니다.\",\n",
    "                     \"{}은 짝수입니다.\"]).\n",
    "          format(number,number))\n",
    "else:\n",
    "    print(\"\\n\".join([\"입력한 문자열은 {}입니다.\",\n",
    "                     \"{}은 홀수입니다.\"])\n",
    "          .format(number,number))"
   ]
  },
  {
   "cell_type": "code",
   "execution_count": 31,
   "metadata": {},
   "outputs": [
    {
     "name": "stdout",
     "output_type": "stream",
     "text": [
      "<list_reverseiterator object at 0x000001F756A34400>\n",
      "6\n",
      "5\n",
      "4\n",
      "3\n",
      "2\n",
      "1\n"
     ]
    }
   ],
   "source": [
    "numbers=[1,2,3,4,5,6]\n",
    "r_num=reversed(numbers)\n",
    "\n",
    "print(r_num)\n",
    "    \n",
    "print(next(r_num))\n",
    "print(next(r_num))\n",
    "print(next(r_num))\n",
    "print(next(r_num))\n",
    "print(next(r_num))\n",
    "print(next(r_num))"
   ]
  },
  {
   "cell_type": "markdown",
   "metadata": {},
   "source": [
    "# 4.4"
   ]
  },
  {
   "cell_type": "code",
   "execution_count": 40,
   "metadata": {},
   "outputs": [
    {
     "name": "stdout",
     "output_type": "stream",
     "text": [
      "2 : 10\n",
      "5 : 101\n",
      "6 : 110\n",
      "11 : 1011\n",
      "13 : 1101\n",
      "14 : 1110\n",
      "23 : 10111\n",
      "27 : 11011\n",
      "29 : 11101\n",
      "30 : 11110\n",
      "47 : 101111\n",
      "55 : 110111\n",
      "59 : 111011\n",
      "61 : 111101\n",
      "62 : 111110\n",
      "95 : 1011111\n",
      "합게 : 539\n"
     ]
    }
   ],
   "source": [
    "output=[number for number in range(1,101) \n",
    "        if \"{:b}\".format(number).count(\"0\")==1]\n",
    "\n",
    "for i in output:\n",
    "    print(f\"{i} : {'{:b}'.format(i)}\")\n",
    "print(\"합게 : {}\".format(sum(output)))"
   ]
  }
 ],
 "metadata": {
  "kernelspec": {
   "display_name": "Python 3",
   "language": "python",
   "name": "python3"
  },
  "language_info": {
   "codemirror_mode": {
    "name": "ipython",
    "version": 3
   },
   "file_extension": ".py",
   "mimetype": "text/x-python",
   "name": "python",
   "nbconvert_exporter": "python",
   "pygments_lexer": "ipython3",
   "version": "3.8.3"
  }
 },
 "nbformat": 4,
 "nbformat_minor": 4
}
