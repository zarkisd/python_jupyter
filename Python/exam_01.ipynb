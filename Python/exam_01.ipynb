{
 "cells": [
  {
   "cell_type": "code",
   "execution_count": null,
   "metadata": {},
   "outputs": [],
   "source": [
    "x=10\n",
    "y=4\n",
    "\n",
    "print(x+y)"
   ]
  },
  {
   "cell_type": "code",
   "execution_count": null,
   "metadata": {},
   "outputs": [],
   "source": [
    "z=20\n",
    "print(x+y+z)"
   ]
  },
  {
   "cell_type": "code",
   "execution_count": null,
   "metadata": {
    "scrolled": true
   },
   "outputs": [],
   "source": [
    "#입력\n",
    "name=input(\"이름을 입력하세요\")\n",
    "print(\"당신의 이름은\",name,\"입니다\")"
   ]
  },
  {
   "cell_type": "code",
   "execution_count": null,
   "metadata": {},
   "outputs": [],
   "source": [
    "print(\"당신의 이름을 입력하세요\")\n",
    "name=input()\n",
    "print(\"당신의 이름은\",name,\"입니다\")"
   ]
  },
  {
   "cell_type": "code",
   "execution_count": null,
   "metadata": {},
   "outputs": [],
   "source": [
    "age=21\n",
    "print(name+\"는 \"+str(age)+\"살입니다\")\n",
    "print(name,\"는 \",age,\"살입니다\")\n"
   ]
  },
  {
   "cell_type": "code",
   "execution_count": null,
   "metadata": {},
   "outputs": [],
   "source": [
    "num1=1\n",
    "num2=2\n",
    "num1+num2"
   ]
  },
  {
   "cell_type": "code",
   "execution_count": 9,
   "metadata": {},
   "outputs": [
    {
     "name": "stdout",
     "output_type": "stream",
     "text": [
      "첫번째 정수 입력 : 20\n",
      "두번째 정수 입력 : 30\n",
      "20 과 30 의 합은 50 입니다\n",
      "20과 30의 합은 50입니다\n"
     ]
    }
   ],
   "source": [
    "num1=int(input(\"첫번째 정수 입력 : \"))\n",
    "num2=int(input(\"두번째 정수 입력 : \"))\n",
    "\n",
    "print(num1,\"과\",num2,\"의 합은\",num1+num2, \"입니다\")\n",
    "print('{}과 {}의 합은 {}입니다'.format(num1,num2,num1+num2))"
   ]
  },
  {
   "cell_type": "code",
   "execution_count": 12,
   "metadata": {},
   "outputs": [
    {
     "name": "stdout",
     "output_type": "stream",
     "text": [
      "첫번째 정수 입력 : 20\n",
      "두번째 정수 입력 : 30\n",
      "0\n",
      "20\n"
     ]
    }
   ],
   "source": [
    "num1=int(input(\"첫번째 정수 입력 : \"))\n",
    "num2=int(input(\"두번째 정수 입력 : \"))\n",
    "# 10 3\n",
    "print(num1//num2)\n",
    "print(num1%num2)"
   ]
  },
  {
   "cell_type": "code",
   "execution_count": 19,
   "metadata": {},
   "outputs": [
    {
     "name": "stdout",
     "output_type": "stream",
     "text": [
      "초 입력20\n",
      "0시 0분 20초\n"
     ]
    }
   ],
   "source": [
    "sec=int(input(\"초 입력\"))\n",
    "hour=sec//60//60\n",
    "min=(sec-hour*60*60)//60\n",
    "sec=sec-hour*60*60-min*60\n",
    "print(\"{}시 {}분 {}초\".format(hour, min, sec))"
   ]
  },
  {
   "cell_type": "markdown",
   "metadata": {},
   "source": [
    "# 리스트명 = [요소1,요소2,요소3]"
   ]
  },
  {
   "cell_type": "code",
   "execution_count": 22,
   "metadata": {},
   "outputs": [],
   "source": [
    "a = []\n",
    "b = [1, 2, 3]\n",
    "c = ['Life', 'is', 'too', 'short']\n",
    "d = [1, 2, 'Life', 'is']\n",
    "e = [1, 2, ['Life', 'is']]"
   ]
  },
  {
   "cell_type": "code",
   "execution_count": 31,
   "metadata": {},
   "outputs": [
    {
     "name": "stdout",
     "output_type": "stream",
     "text": [
      "2\n",
      "Life\n",
      "['Life', 'is']\n",
      "['Life', 'is']\n"
     ]
    }
   ],
   "source": [
    "# 리스트명[인덱스]--->인덱싱\n",
    "print(b[1])\n",
    "print(e[2][0])\n",
    "#슬라이싱 요소1 :  요소2  ---> 요소1부터 요소 2 앞까지\n",
    "print(c[:2])\n",
    "print(c[0:2])"
   ]
  },
  {
   "cell_type": "code",
   "execution_count": 36,
   "metadata": {},
   "outputs": [
    {
     "name": "stdout",
     "output_type": "stream",
     "text": [
      "[50, 34, 30, 20]\n",
      "[10, 40, 50, 34, 30]\n",
      "[34, 30, 20, 26, 90]\n"
     ]
    }
   ],
   "source": [
    "list2=[10,40,50,34,30,20,26,90]\n",
    "#50부터 20까지 요소 출력\n",
    "print(list2[2:6])\n",
    "#10부터 30까지\n",
    "print(list2[:5])\n",
    "#34부터 끝까지\n",
    "print(list2[3:])"
   ]
  },
  {
   "cell_type": "code",
   "execution_count": 39,
   "metadata": {},
   "outputs": [
    {
     "name": "stdout",
     "output_type": "stream",
     "text": [
      "랍스터\n",
      "['얼큰수제비', '불족발']\n"
     ]
    }
   ],
   "source": [
    "list3=[\"소고기짬뽕\", \"치킨\", \"낙지덮밥\", \"얼큰수제비\", \"불족발\", \"랍스터\"]\n",
    "print(list3[-1])\n",
    "#얼큰 수제비부터 뒤에서 두번째 음식 출력\n",
    "print(list3[-3:-1])"
   ]
  },
  {
   "cell_type": "code",
   "execution_count": 41,
   "metadata": {},
   "outputs": [
    {
     "name": "stdout",
     "output_type": "stream",
     "text": [
      "[3, ['a', 'b', 'c'], 4]\n",
      "['a', 'b']\n"
     ]
    }
   ],
   "source": [
    "array=[1,2,3,['a','b','c'],4,5]\n",
    "#3 ['a','b','c'],4 출력\n",
    "print(array[2:5])\n",
    "#['a','b']만 출력\n",
    "print(array[3][:2])\n",
    "\n",
    "\n",
    "\n"
   ]
  },
  {
   "cell_type": "code",
   "execution_count": 60,
   "metadata": {},
   "outputs": [
    {
     "name": "stdout",
     "output_type": "stream",
     "text": [
      "Python is very easy\n",
      "'Python is very easy.' he said.\n",
      "'Python is very easy.' he said\n",
      "'Python is very easy.' he said.\n",
      "Life is too short. \n",
      "\tYou need Python.\n"
     ]
    }
   ],
   "source": [
    "#Python is very easy\n",
    "str2=\"Python is very easy\"\n",
    "print(str2)\n",
    "#phthon is very easy he said. 출력\n",
    "#str3 출력\n",
    "str3=\"'Python is very easy.' he said.\"\n",
    "str4='\\'Python is very easy.\\' he said'\n",
    "str5=\"\"\"'Python is very easy.' he said.\"\"\"\n",
    "print(str3)\n",
    "print(str4)\n",
    "print(str5)\n",
    "# \\n 쓰거나 엔터치고 \"\"\" 넣기\n",
    "# \\t 탭\n",
    "# tab 자동완성 \n",
    "multiline=\"Life is too short. \\n\\tYou need Python.\"\n",
    "print(multiline)"
   ]
  },
  {
   "cell_type": "markdown",
   "metadata": {},
   "source": [
    "# dictionary"
   ]
  },
  {
   "cell_type": "code",
   "execution_count": 61,
   "metadata": {},
   "outputs": [],
   "source": [
    "dic={\"name\":\"나예호\", \"age\":21, \"tel\":\"010-3197-4771\"}"
   ]
  },
  {
   "cell_type": "code",
   "execution_count": 62,
   "metadata": {},
   "outputs": [
    {
     "name": "stdout",
     "output_type": "stream",
     "text": [
      "{'name': '나예호', 'age': 21, 'tel': '010-3197-4771'}\n"
     ]
    }
   ],
   "source": [
    "print(dic)"
   ]
  },
  {
   "cell_type": "code",
   "execution_count": 66,
   "metadata": {},
   "outputs": [
    {
     "name": "stdout",
     "output_type": "stream",
     "text": [
      "나예호\n",
      "나예호\n",
      "010-3197-4771\n"
     ]
    }
   ],
   "source": [
    "# name이라는 key값에 해당하는 value\n",
    "print(dic.get(\"name\"))\n",
    "print(dic[\"name\"])\n",
    "print(dic.get(\"tel\"))"
   ]
  },
  {
   "cell_type": "code",
   "execution_count": 68,
   "metadata": {},
   "outputs": [],
   "source": [
    "dic[\"addr\"]=\"광주 북구 각화동\""
   ]
  },
  {
   "cell_type": "code",
   "execution_count": 69,
   "metadata": {},
   "outputs": [
    {
     "name": "stdout",
     "output_type": "stream",
     "text": [
      "{'name': '나예호', 'age': 21, 'tel': '010-3197-4771', 'addr': '광주 북구 각화동'}\n"
     ]
    }
   ],
   "source": [
    "print(dic)"
   ]
  },
  {
   "cell_type": "code",
   "execution_count": 73,
   "metadata": {},
   "outputs": [
    {
     "name": "stdout",
     "output_type": "stream",
     "text": [
      "dict_keys(['name', 'age', 'tel', 'addr'])\n",
      "['name', 'age', 'tel', 'addr']\n",
      "dict_values(['나예호', 21, '010-3197-4771', '광주 북구 각화동'])\n",
      "dict_items([('name', '나예호'), ('age', 21), ('tel', '010-3197-4771'), ('addr', '광주 북구 각화동')])\n"
     ]
    }
   ],
   "source": [
    "# dic 키값만 출력\n",
    "print(dic.keys())\n",
    "print(list(dic.keys()))\n",
    "# dic 밸류값만 출력\n",
    "print(dic.values())\n",
    "# dic 튜플형태로 출력\n",
    "print(dic.items())"
   ]
  },
  {
   "cell_type": "code",
   "execution_count": 75,
   "metadata": {},
   "outputs": [
    {
     "name": "stdout",
     "output_type": "stream",
     "text": [
      "True\n",
      "False\n"
     ]
    }
   ],
   "source": [
    "# key in 딕셔너리명\n",
    "# True or False\n",
    "print(\"name\" in dic)\n",
    "print(\"birth\" in dic)"
   ]
  },
  {
   "cell_type": "code",
   "execution_count": 76,
   "metadata": {
    "scrolled": true
   },
   "outputs": [
    {
     "name": "stdout",
     "output_type": "stream",
     "text": [
      "{'name': '나예호', 'age': 21, 'tel': '010-3197-4771'}\n"
     ]
    }
   ],
   "source": [
    "# addr 키값 삭제\n",
    "del dic[\"addr\"]\n",
    "print(dic)"
   ]
  },
  {
   "cell_type": "code",
   "execution_count": null,
   "metadata": {},
   "outputs": [],
   "source": []
  },
  {
   "cell_type": "code",
   "execution_count": null,
   "metadata": {},
   "outputs": [],
   "source": []
  },
  {
   "cell_type": "code",
   "execution_count": null,
   "metadata": {},
   "outputs": [],
   "source": []
  },
  {
   "cell_type": "code",
   "execution_count": null,
   "metadata": {},
   "outputs": [],
   "source": []
  },
  {
   "cell_type": "code",
   "execution_count": null,
   "metadata": {},
   "outputs": [],
   "source": []
  }
 ],
 "metadata": {
  "kernelspec": {
   "display_name": "Python 3",
   "language": "python",
   "name": "python3"
  },
  "language_info": {
   "codemirror_mode": {
    "name": "ipython",
    "version": 3
   },
   "file_extension": ".py",
   "mimetype": "text/x-python",
   "name": "python",
   "nbconvert_exporter": "python",
   "pygments_lexer": "ipython3",
   "version": "3.8.3"
  }
 },
 "nbformat": 4,
 "nbformat_minor": 4
}
