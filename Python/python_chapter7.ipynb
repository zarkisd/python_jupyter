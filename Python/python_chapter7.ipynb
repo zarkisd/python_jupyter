{
 "cells": [
  {
   "cell_type": "markdown",
   "metadata": {},
   "source": [
    "# module_random.py"
   ]
  },
  {
   "cell_type": "code",
   "execution_count": 2,
   "metadata": {},
   "outputs": [
    {
     "name": "stdout",
     "output_type": "stream",
     "text": [
      "# random 모듈\n",
      "- random() : 0.30414311709770414\n",
      "= uniform(10,20) : 19.46484103662987\n",
      "- randrange(10) : 2\n",
      "- choice([1,2,3,4,5]) : 5\n",
      "- shuffle([1,2,3,4,5]) : None\n",
      "- sample([1,2,3,4,5], k=2) : [2, 4]\n"
     ]
    }
   ],
   "source": [
    "import random\n",
    "print(\"# random 모듈\")\n",
    "# 0.0<=x<=1.0 float return\n",
    "print(f\"- random() : {random.random()}\")\n",
    "# 지정한 범위 사이의 float\n",
    "print(f\"= uniform(10,20) : {random.uniform(10,20)}\")\n",
    "# randrange() 지정한 범위의 int 리턴\n",
    "print(f\"- randrange(10) : {random.randrange(10)}\")\n",
    "#choice(list) 리스트 내부의 요소 랜덤 선택\n",
    "print(f\"- choice([1,2,3,4,5]) : {random.choice([1,2,3,4,5])}\")\n",
    "\n",
    "#shuffle(list) 리스트 요소 랜덤하게 섞음\n",
    "print(f\"- shuffle([1,2,3,4,5]) : {random.shuffle([1,2,3,4,5])}\")\n",
    "# sample(list, k=<숫자>) 리스트 요소중 랜덤하게 k개 뽑음\n",
    "print(f\"- sample([1,2,3,4,5], k=2) : {random.sample([1,2,3,4,5],k=2)}\")"
   ]
  },
  {
   "cell_type": "markdown",
   "metadata": {},
   "source": [
    "# module_sys.py"
   ]
  },
  {
   "cell_type": "code",
   "execution_count": 6,
   "metadata": {},
   "outputs": [
    {
     "name": "stdout",
     "output_type": "stream",
     "text": [
      "['C:\\\\Users\\\\smhrd\\\\Anaconda3\\\\lib\\\\site-packages\\\\ipykernel_launcher.py', '-f', 'C:\\\\Users\\\\smhrd\\\\AppData\\\\Roaming\\\\jupyter\\\\runtime\\\\kernel-434c1b70-767b-4e60-9f41-8b003f71f10d.json']\n",
      "********\n",
      "getwindowsversion :  sys.getwindowsversion(major=10, minor=0, build=18363, platform=2, service_pack='')\n",
      "copyright :  Copyright (c) 2001-2020 Python Software Foundation.\n",
      "All Rights Reserved.\n",
      "\n",
      "Copyright (c) 2000 BeOpen.com.\n",
      "All Rights Reserved.\n",
      "\n",
      "Copyright (c) 1995-2001 Corporation for National Research Initiatives.\n",
      "All Rights Reserved.\n",
      "\n",
      "Copyright (c) 1991-1995 Stichting Mathematisch Centrum, Amsterdam.\n",
      "All Rights Reserved.\n",
      "*****\n",
      "version :  3.8.3 (default, Jul  2 2020, 17:30:36) [MSC v.1916 64 bit (AMD64)]\n"
     ]
    },
    {
     "ename": "SystemExit",
     "evalue": "",
     "output_type": "error",
     "traceback": [
      "An exception has occurred, use %tb to see the full traceback.\n",
      "\u001b[1;31mSystemExit\u001b[0m\n"
     ]
    },
    {
     "name": "stderr",
     "output_type": "stream",
     "text": [
      "C:\\Users\\smhrd\\Anaconda3\\lib\\site-packages\\IPython\\core\\interactiveshell.py:3351: UserWarning: To exit: use 'exit', 'quit', or Ctrl-D.\n",
      "  warn(\"To exit: use 'exit', 'quit', or Ctrl-D.\", stacklevel=1)\n"
     ]
    }
   ],
   "source": [
    "import sys\n",
    "#명령매개변수 출력\n",
    "print(sys.argv)\n",
    "print(\"********\")\n",
    "#컴퓨터 환경 정보 출력\n",
    "print(\"getwindowsversion : \",sys.getwindowsversion())\n",
    "print(\"copyright : \", sys.copyright)\n",
    "print(\"*****\")\n",
    "print(\"version : \",sys.version)\n",
    "\n",
    "sys.exit()"
   ]
  },
  {
   "cell_type": "markdown",
   "metadata": {},
   "source": [
    "# module_datetime.py"
   ]
  },
  {
   "cell_type": "code",
   "execution_count": 2,
   "metadata": {},
   "outputs": [
    {
     "name": "stdout",
     "output_type": "stream",
     "text": [
      "현재 시간 출력하기\n",
      "2021 년\n",
      "1 월\n",
      "26 일\n",
      "21 시\n",
      "48 분\n",
      "36 초\n",
      "\n",
      "# 시간을 포맷에 맞춰 출력하기\n",
      "2021.01.26 21:48:36\n",
      "2021년 1월 26일 21시 48분 36초\n",
      "2021년 01월 26일 21시 48분 36초\n"
     ]
    }
   ],
   "source": [
    "import datetime\n",
    "print(\"현재 시간 출력하기\")\n",
    "now=datetime.datetime.now()\n",
    "print(now.year,\"년\")\n",
    "print(now.month,\"월\")\n",
    "print(now.day,\"일\")\n",
    "print(now.hour,\"시\")\n",
    "print(now.minute,\"분\")\n",
    "print(now.second,\"초\")\n",
    "print()\n",
    "\n",
    "print(\"# 시간을 포맷에 맞춰 출력하기\")\n",
    "output_a=now.strftime(\"%Y.%m.%d %H:%M:%S\")\n",
    "output_b=\"{}년 {}월 {}일 {}시 {}분 {}초\".format(now.year,\n",
    "                                         now.month,\n",
    "                                         now.day,\n",
    "                                         now.hour,\n",
    "                                         now.minute,\n",
    "                                         now.second)\n",
    "output_c=now.strftime(\"%Y{} %m{} %d{} %H{} %M{} %S{}\").format(*\"년월일시분초\")\n",
    "print(output_a)\n",
    "print(output_b)\n",
    "print(output_c)"
   ]
  },
  {
   "cell_type": "markdown",
   "metadata": {},
   "source": [
    "# module_datetime_add.py"
   ]
  },
  {
   "cell_type": "code",
   "execution_count": 5,
   "metadata": {},
   "outputs": [
    {
     "name": "stdout",
     "output_type": "stream",
     "text": [
      "% date.timedelta로 시간 더하기\n",
      "2021년 02월 03일 22시 51분 32초\n",
      "\n",
      "# now.replace()로 1년 더하기\n",
      "2022년 01월 26일 21시 50분 31초\n"
     ]
    }
   ],
   "source": [
    "import datetime\n",
    "now=datetime.datetime.now()\n",
    "\n",
    "print(\"% date.timedelta로 시간 더하기\")\n",
    "after=now+datetime.timedelta(\n",
    "                            weeks=1,\n",
    "                            days=1,\n",
    "                            hours=1,\n",
    "                            minutes=1,\\\n",
    "                            seconds=1\n",
    "        \n",
    "                            )\n",
    "print(after.strftime(\"%Y{} %m{} %d{} %H{} %M{} %S{}\").format(*\"년월일시분초\"))\n",
    "print()\n",
    "\n",
    "print(\"# now.replace()로 1년 더하기\")\n",
    "output=now.replace(year=(now.year+1))\n",
    "print(output.strftime(\"%Y{} %m{} %d{} %H{} %M{} %S{}\").format(*\"년월일시분초\"))"
   ]
  },
  {
   "cell_type": "markdown",
   "metadata": {},
   "source": [
    "# module_time.py "
   ]
  },
  {
   "cell_type": "code",
   "execution_count": 6,
   "metadata": {},
   "outputs": [
    {
     "name": "stdout",
     "output_type": "stream",
     "text": [
      "지금부터 5초동안 정지합니다.\n",
      "프로그램을 종료합니다\n"
     ]
    }
   ],
   "source": [
    "import time\n",
    "print(\"지금부터 5초동안 정지합니다.\")\n",
    "time.sleep(5)\n",
    "print(\"프로그램을 종료합니다\")"
   ]
  },
  {
   "cell_type": "markdown",
   "metadata": {},
   "source": [
    "# module_urllib.py"
   ]
  },
  {
   "cell_type": "code",
   "execution_count": 8,
   "metadata": {},
   "outputs": [
    {
     "name": "stdout",
     "output_type": "stream",
     "text": [
      "b'<!doctype html><html itemscope=\"\" itemtype=\"http://schema.org/WebPage\" lang=\"ko\"><head><meta content=\"text/html; charset=UTF-8\" http-equiv=\"Content-Type\"><meta content=\"/images/branding/googleg/1x/googleg_standard_color_128dp.png\" itemprop=\"image\"><title>Google</title><script nonce=\"cg24QOOehLliwrTzRu0fWA==\">(function(){window.google={kEI:\\'4xAQYPfSK5K_wAPPibC4CQ\\',kEXPI:\\'0,1359409,954,756,4348,207,3204,10,1590,926,1390,383,246,5,1354,4414,3,66,768,217,2124,2998,7,1758,1927,55,433,1112996,1197789,493,328985,51224,16114,17444,11240,9188,8384,1326,3532,1362,9291,3025,4742,6,12835,4020,978,13228,2054,920,873,10622,14527,4518,2777,919,2277,8,2796,1593,1279,2212,530,149,1103,840,517,1522,4258,312,1137,2,2063,606,2023,1777,520,1947,2229,93,328,1284,2943,2246,3600,3227,1990,855,7,5599,6755,5096,7877,3747,1181,108,3407,908,2,941,2614,2397,1387,6083,3275,3,346,230,970,865,4624,149,5990,7985,4,1528,2304,1236,1145,4082,576,1791,2446,447,459,1555,4067,1036,4598,1426,2172,3037,286,1753,2658,1213,3029,521,910,566,464,215,8,430,31,1303,2551,2578,655,990,52,3286,2213,2305,638,1494,130,475,2,1484,3176,319,2361,55,745,2263,1577,712,2,2,103,27,1359,587,11,731,665,1701,444,377,1143,2165,2071,456,479,142,370,1,1054,908,777,363,19,2194,229,696,6,447,461,3,1863,1678,1,1664,2409,1218,290,405,1013,34,1593,1318,246,255,1008,803,1135,1319,1187,371,280,14,245,2073,2273,1510,430,618,1260,239,955,2,42,18,2133,1423,682,400,23,441,350,2190,5,592,187,279,50,541,278,436,2,337,124,95,4,506,46,282,581,934,5704267,3870,35,70,8797941,549,333,444,1,2,80,1,900,896,1,9,2,2551,1,748,141,59,736,563,1,4265,1,1,2,1017,9,305,3299,248,595,1,2705,104,1,27,23957424,2773819\\',kBL:\\'CHOb\\'};google.sn=\\'webhp\\';google.kHL=\\'ko\\';})();(function(){\\ngoogle.lc=[];google.li=0;google.getEI=function(a){for(var b;a&&(!a.getAttribute||!(b=a.getAttribute(\"eid\")));)a=a.parentNode;return b||google.kEI};google.getLEI=function(a){for(var b=null;a&&(!a.getAttribute||!(b=a.getAttribute(\"leid\")));)a=a.parentNode;return b};google.ml=function(){return null};google.time=function(){return Date.now()};google.log=function(a,b,c,d,f){if(c=google.logUrl(a,b,c,d,f)){a=new Image;var e=google.lc,g=google.li;e[g]=a;a.onerror=a.onload=a.onabort=function(){delete e[g]};a.src=c;google.li=g+1}};google.logUrl=function(a,b,c,d,f){var e=\"\";c||-1!=b.search(\"&ei=\")||(e=\"&ei=\"+google.getEI(d),-1==b.search(\"&lei=\")&&(d=google.getLEI(d))&&(e+=\"&lei=\"+d));d=\"\";!c&&google.cshid&&-1==b.search(\"&cshid=\")&&\"slh\"!=a&&(d=\"&cshid=\"+google.cshid);c=c||\"/\"+(f||\"gen_204\")+\"?atyp=i&ct=\"+a+\"&cad=\"+b+e+\"&zx=\"+google.time()+d;/^http:/i.test(c)&&\"https:\"==window.location.protocol&&(google.ml(Error(\"a\"),!1,{src:c,glmm:1}),c=\"\");return c};}).call(this);(function(){google.y={};google.x=function(a,b){if(a)var c=a.id;else{do c=Math.random();while(google.y[c])}google.y[c]=[a,b];return!1};google.lm=[];google.plm=function(a){google.lm.push.apply(google.lm,a)};google.lq=[];google.load=function(a,b,c){google.lq.push([[a],b,c])};google.loadAll=function(a,b){google.lq.push([a,b])};google.bx=!1;google.lx=function(){};}).call(this);google.f={};(function(){\\ndocument.documentElement.addEventListener(\"submit\",function(b){var a;if(a=b.target){var c=a.getAttribute(\"data-submitfalse\");a=\"1\"==c||\"q\"==c&&!a.elements.q.value?!0:!1}else a=!1;a&&(b.preventDefault(),b.stopPropagation())},!0);document.documentElement.addEventListener(\"click\",function(b){var a;a:{for(a=b.target;a&&a!=document.documentElement;a=a.parentElement)if(\"A\"==a.tagName){a=\"1\"==a.getAttribute(\"data-nohref\");break a}a=!1}a&&b.preventDefault()},!0);}).call(this);\\nvar a=window.location,b=a.href.indexOf(\"#\");if(0<=b){var c=a.href.substring(b+1);/(^|&)q=/.test(c)&&-1==c.indexOf(\"#\")&&a.replace(\"/search?\"+c.replace(/(^|&)fp=[^&]*/g,\"\")+\"&cad=h\")};</script><style>#gbar,#guser{font-size:13px;padding-top:1px !important;}#gbar{height:22px}#guser{padding-bottom:7px !important;text-align:right}.gbh,.gbd{border-top:1px solid #c9d7f1;font-size:1px}.gbh{height:0;position:absolute;top:24px;width:100%}@media all{.gb1{height:22px;margin-right:.5em;vertical-align:top}#gbar{float:left}}a.gb1,a.gb4{text-decoration:underline !important}a.gb1,a.gb4{color:#00c !important}.gbi .gb4{color:#dd8e27 !important}.gbf .gb4{color:#900 !important}\\n</style><style>body,td,a,p,.h{font-family:&#44404;&#47548;,&#46027;&#50880;,arial,sans-serif}.ko{font-size:9pt}body{margin:0;overflow-y:scroll}#gog{padding:3px 8px 0}td{line-height:.8em}.gac_m td{line-height:17px}form{margin-bottom:20px}.h{color:#1558d6}em{font-weight:bold;font-style:normal}.lst{height:25px;width:496px}.gsfi,.lst{font:18px arial,sans-serif}.gsfs{font:17px arial,sans-serif}.ds{display:inline-box;display:inline-block;margin:3px 0 4px;margin-left:4px}input{font-family:inherit}body{background:#fff;color:#000}a{color:#4b11a8;text-decoration:none}a:hover,a:active{text-decoration:underline}.fl a{color:#1558d6}a:visited{color:#4b11a8}.sblc{padding-top:5px}.sblc a{display:block;margin:2px 0;margin-left:13px;font-size:11px}.lsbb{background:#f8f9fa;border:solid 1px;border-color:#dadce0 #70757a #70757a #dadce0;height:30px}.lsbb{display:block}#WqQANb a{display:inline-block;margin:0 12px}.lsb{background:url(/images/nav_logo229.png) 0 -261px repeat-x;border:none;color:#000;cursor:pointer;height:30px;margin:0;outline:0;font:15px arial,sans-serif;vertical-align:top}.lsb:active{background:#dadce0}.lst:focus{outline:none}.tiah{width:458px}</style><script nonce=\"cg24QOOehLliwrTzRu0fWA==\"></script></head><body bgcolor=\"#fff\"><script nonce=\"cg24QOOehLliwrTzRu0fWA==\">(function(){var src=\\'/images/nav_logo229.png\\';var iesg=false;document.body.onload = function(){window.n && window.n();if (document.images){new Image().src=src;}\\nif (!iesg){document.f&&document.f.q.focus();document.gbqf&&document.gbqf.q.focus();}\\n}\\n})();</script><div id=\"mngb\"><div id=gbar><nobr><b class=gb1>&#44160;&#49353;</b> <a class=gb1 href=\"https://www.google.co.kr/imghp?hl=ko&tab=wi\">&#51060;&#48120;&#51648;</a> <a class=gb1 href=\"https://maps.google.co.kr/maps?hl=ko&tab=wl\">&#51648;&#46020;</a> <a class=gb1 href=\"https://play.google.com/?hl=ko&tab=w8\">Play</a> <a class=gb1 href=\"https://www.youtube.com/?gl=KR&tab=w1\">YouTube</a> <a class=gb1 href=\"https://news.google.com/?tab=wn\">&#45684;&#49828;</a> <a class=gb1 href=\"https://mail.google.com/mail/?tab=wm\">Gmail</a> <a class=gb1 href=\"https://drive.google.com/?tab=wo\">&#46300;&#46972;&#51060;&#48652;</a> <a class=gb1 style=\"text-decoration:none\" href=\"https://www.google.co.kr/intl/ko/about/products?tab=wh\"><u>&#45908;&#48372;&#44592;</u> &raquo;</a></nobr></div><div id=guser width=100%><nobr><span id=gbn class=gbi></span><span id=gbf class=gbf></span><span id=gbe></span><a href=\"http://www.google.co.kr/history/optout?hl=ko\" class=gb4>&#50937; &#44592;&#47197;</a> | <a  href=\"/preferences?hl=ko\" class=gb4>&#49444;&#51221;</a> | <a target=_top id=gb_70 href=\"https://accounts.google.com/ServiceLogin?hl=ko&passive=true&continue=https://www.google.com/&ec=GAZAAQ\" class=gb4>&#47196;&#44536;&#51064;</a></nobr></div><div class=gbh style=left:0></div><div class=gbh style=right:0></div></div><center><br clear=\"all\" id=\"lgpd\"><div id=\"lga\"><img alt=\"Google\" height=\"92\" src=\"/images/branding/googlelogo/1x/googlelogo_white_background_color_272x92dp.png\" style=\"padding:28px 0 14px\" width=\"272\" id=\"hplogo\"><br><br></div><form action=\"/search\" name=\"f\"><table cellpadding=\"0\" cellspacing=\"0\"><tr valign=\"top\"><td width=\"25%\">&nbsp;</td><td align=\"center\" nowrap=\"\"><input name=\"ie\" value=\"ISO-8859-1\" type=\"hidden\"><input value=\"ko\" name=\"hl\" type=\"hidden\"><input name=\"source\" type=\"hidden\" value=\"hp\"><input name=\"biw\" type=\"hidden\"><input name=\"bih\" type=\"hidden\"><div class=\"ds\" style=\"height:32px;margin:4px 0\"><div style=\"position:relative;zoom:1\"><input class=\"lst tiah\" style=\"margin:0;padding:5px 8px 0 6px;vertical-align:top;color:#000;padding-right:38px\" autocomplete=\"off\" value=\"\" title=\"Google &#44160;&#49353;\" maxlength=\"2048\" name=\"q\" size=\"57\"><img src=\"/textinputassistant/tia.png\" style=\"position:absolute;cursor:pointer;right:5px;top:4px;z-index:300\" data-script-url=\"/textinputassistant/11/ko_tia.js\" id=\"tsuid1\" alt=\"\" height=\"23\" width=\"27\"><script nonce=\"cg24QOOehLliwrTzRu0fWA==\">(function(){var id=\\'tsuid1\\';document.getElementById(id).onclick = function(){var s = document.createElement(\\'script\\');s.src = this.getAttribute(\\'data-script-url\\');(document.getElementById(\\'xjsc\\')||document.body).appendChild(s);};})();</script></div></div><br style=\"line-height:0\"><span class=\"ds\"><span class=\"lsbb\"><input class=\"lsb\" value=\"Google &#44160;&#49353;\" name=\"btnG\" type=\"submit\"></span></span><span class=\"ds\"><span class=\"lsbb\"><input class=\"lsb\" id=\"tsuid2\" value=\"I&#8217;m Feeling Lucky\" name=\"btnI\" type=\"submit\"><script nonce=\"cg24QOOehLliwrTzRu0fWA==\">(function(){var id=\\'tsuid2\\';document.getElementById(id).onclick = function(){if (this.form.q.value){this.checked = 1;if (this.form.iflsig)this.form.iflsig.disabled = false;}\\nelse top.location=\\'/doodles/\\';};})();</script><input value=\"AINFCbYAAAAAYBAe85rPj9ACWQOPqJ6eORIps6GAXpo8\" name=\"iflsig\" type=\"hidden\"></span></span></td><td class=\"fl sblc\" align=\"left\" nowrap=\"\" width=\"25%\"><a href=\"/advanced_search?hl=ko&amp;authuser=0\">&#44256;&#44553;&#44160;&#49353;</a></td></tr></table><input id=\"gbv\" name=\"gbv\" type=\"hidden\" value=\"1\"><script nonce=\"cg24QOOehLliwrTzRu0fWA==\">(function(){var a,b=\"1\";if(document&&document.getElementById)if(\"undefined\"!=typeof XMLHttpRequest)b=\"2\";else if(\"undefined\"!=typeof ActiveXObject){var c,d,e=[\"MSXML2.XMLHTTP.6.0\",\"MSXML2.XMLHTTP.3.0\",\"MSXML2.XMLHTTP\",\"Microsoft.XMLHTTP\"];for(c=0;d=e[c++];)try{new ActiveXObject(d),b=\"2\"}catch(h){}}a=b;if(\"2\"==a&&-1==location.search.indexOf(\"&gbv=2\")){var f=google.gbvu,g=document.getElementById(\"gbv\");g&&(g.value=a);f&&window.setTimeout(function(){location.href=f},0)};}).call(this);</script></form><div id=\"gac_scont\"></div><div style=\"font-size:83%;min-height:3.5em\"><br></div><span id=\"footer\"><div style=\"font-size:10pt\"><div style=\"margin:19px auto;text-align:center\" id=\"WqQANb\"><a href=\"/intl/ko/ads/\">&#44305;&#44256; &#54532;&#47196;&#44536;&#47016;</a><a href=\"http://www.google.co.kr/intl/ko/services/\">&#48708;&#51592;&#45768;&#49828; &#49556;&#47336;&#49496;</a><a href=\"/intl/ko/about.html\">Google &#51221;&#48372;</a><a href=\"https://www.google.com/setprefdomain?prefdom=KR&amp;prev=https://www.google.co.kr/&amp;sig=K_XEbMNHX3XzedSvabIuu4jMTKGLA%3D\">Google.co.kr</a></div></div><p style=\"font-size:8pt;color:#70757a\">&copy; 2021 - <a href=\"/intl/ko/policies/privacy/\">&#44060;&#51064;&#51221;&#48372;&#52376;&#47532;&#48169;&#52840;</a> - <a href=\"/intl/ko/policies/terms/\">&#50557;&#44288;</a></p></span></center><script nonce=\"cg24QOOehLliwrTzRu0fWA==\">(function(){window.google.cdo={height:0,width:0};(function(){var a=window.innerWidth,b=window.innerHeight;if(!a||!b){var c=window.document,d=\"CSS1Compat\"==c.compatMode?c.documentElement:c.body;a=d.clientWidth;b=d.clientHeight}a&&b&&(a!=google.cdo.width||b!=google.cdo.height)&&google.log(\"\",\"\",\"/client_204?&atyp=i&biw=\"+a+\"&bih=\"+b+\"&ei=\"+google.kEI);}).call(this);})();(function(){var u=\\'/xjs/_/js/k\\\\x3dxjs.hp.en.CjHyfQ4g410.O/m\\\\x3dsb_he,d/am\\\\x3dAHiCOA/d\\\\x3d1/rs\\\\x3dACT90oEJXj_sOnSXmTpUOcWMQKw-0Tpdnw\\';\\nvar d=this||self,e=/^[\\\\w+/_-]+[=]{0,2}$/,f=null,g=function(a){return(a=a.querySelector&&a.querySelector(\"script[nonce]\"))&&(a=a.nonce||a.getAttribute(\"nonce\"))&&e.test(a)?a:\"\"},h=function(a){return a};var l;var n=function(a,b){this.g=b===m?a:\"\"};n.prototype.toString=function(){return this.g+\"\"};var m={};function p(){var a=u;google.lx=function(){q(a);google.lx=function(){}};google.bx||google.lx()}\\nfunction q(a){var b=document;var c=\"SCRIPT\";\"application/xhtml+xml\"===b.contentType&&(c=c.toLowerCase());c=b.createElement(c);if(void 0===l){b=null;var k=d.trustedTypes;if(k&&k.createPolicy){try{b=k.createPolicy(\"goog#html\",{createHTML:h,createScript:h,createScriptURL:h})}catch(r){d.console&&d.console.error(r.message)}l=b}else l=b}a=(b=l)?b.createScriptURL(a):a;a=new n(a,m);c.src=a instanceof n&&a.constructor===n?a.g:\"type_error:TrustedResourceUrl\";(a=c.ownerDocument&&c.ownerDocument.defaultView)&&\\na!=d?a=g(a.document):(null===f&&(f=g(d.document)),a=f);a&&c.setAttribute(\"nonce\",a);google.timers&&google.timers.load&&google.tick&&google.tick(\"load\",\"xjsls\");document.body.appendChild(c)};setTimeout(function(){p()},0);})();(function(){window.google.xjsu=\\'/xjs/_/js/k\\\\x3dxjs.hp.en.CjHyfQ4g410.O/m\\\\x3dsb_he,d/am\\\\x3dAHiCOA/d\\\\x3d1/rs\\\\x3dACT90oEJXj_sOnSXmTpUOcWMQKw-0Tpdnw\\';})();function _DumpException(e){throw e;}\\nfunction _F_installCss(c){}\\n(function(){google.jl={dw:false,em:[],emw:false,lls:\\'default\\',pdt:0,snet:true,uwp:true};})();(function(){var pmc=\\'{\\\\x22d\\\\x22:{},\\\\x22sb_he\\\\x22:{\\\\x22agen\\\\x22:true,\\\\x22cgen\\\\x22:true,\\\\x22client\\\\x22:\\\\x22heirloom-hp\\\\x22,\\\\x22dh\\\\x22:true,\\\\x22dhqt\\\\x22:true,\\\\x22ds\\\\x22:\\\\x22\\\\x22,\\\\x22ffql\\\\x22:\\\\x22ko\\\\x22,\\\\x22fl\\\\x22:true,\\\\x22host\\\\x22:\\\\x22google.com\\\\x22,\\\\x22isbh\\\\x22:28,\\\\x22jsonp\\\\x22:true,\\\\x22msgs\\\\x22:{\\\\x22cibl\\\\x22:\\\\x22&#44160;&#49353;&#50612; &#51648;&#50864;&#44592;\\\\x22,\\\\x22dym\\\\x22:\\\\x22&#51060;&#44163;&#51012; &#52286;&#51004;&#49512;&#45208;&#50836;?\\\\x22,\\\\x22lcky\\\\x22:\\\\x22I&#8217;m Feeling Lucky\\\\x22,\\\\x22lml\\\\x22:\\\\x22&#51088;&#49464;&#55176; &#50508;&#50500;&#48372;&#44592;\\\\x22,\\\\x22oskt\\\\x22:\\\\x22&#51077;&#47141; &#46020;&#44396;\\\\x22,\\\\x22psrc\\\\x22:\\\\x22&#44160;&#49353;&#50612;&#44032; \\\\\\\\u003Ca href\\\\x3d\\\\\\\\\\\\x22/history\\\\\\\\\\\\x22\\\\\\\\u003E&#50937; &#44592;&#47197;\\\\\\\\u003C/a\\\\\\\\u003E&#50640;&#49436; &#49325;&#51228;&#46104;&#50632;&#49845;&#45768;&#45796;.\\\\x22,\\\\x22psrl\\\\x22:\\\\x22&#49325;&#51228;\\\\x22,\\\\x22sbit\\\\x22:\\\\x22&#51060;&#48120;&#51648;&#47196; &#44160;&#49353;\\\\x22,\\\\x22srch\\\\x22:\\\\x22Google &#44160;&#49353;\\\\x22},\\\\x22nrft\\\\x22:false,\\\\x22ovr\\\\x22:{},\\\\x22pq\\\\x22:\\\\x22\\\\x22,\\\\x22refpd\\\\x22:true,\\\\x22refspre\\\\x22:true,\\\\x22rfs\\\\x22:[],\\\\x22sbas\\\\x22:\\\\x220 3px 8px 0 rgba(0,0,0,0.2),0 0 0 1px rgba(0,0,0,0.08)\\\\x22,\\\\x22sbpl\\\\x22:16,\\\\x22sbpr\\\\x22:16,\\\\x22scd\\\\x22:10,\\\\x22stok\\\\x22:\\\\x22g0ieAbJTw45pF6Um4sg0FmMUEQ4\\\\x22,\\\\x22uhde\\\\x22:false}}\\';google.pmc=JSON.parse(pmc);})();</script>        </body></html>'\n"
     ]
    }
   ],
   "source": [
    "from urllib import request\n",
    "\n",
    "target=request.urlopen(\"https://google.com\")\n",
    "output=target.read()\n",
    "\n",
    "print(output)"
   ]
  },
  {
   "cell_type": "markdown",
   "metadata": {},
   "source": [
    "# 7.1"
   ]
  },
  {
   "cell_type": "code",
   "execution_count": 9,
   "metadata": {},
   "outputs": [
    {
     "name": "stdout",
     "output_type": "stream",
     "text": [
      "os.listdir() : ['.ipynb_checkpoints', '0120~0121_Numpy.ipynb', '0122_pandas.ipynb', '0131_study_문제.ipynb', 'baekjun_0124.ipynb', 'basic.txt', 'exam_01.ipynb', 'exam_02.ipynb', 'exam_03.ipynb', 'exam_03_copy.py', 'exam_04.ipynb', 'Flask_server.ipynb', 'game.ipynb', 'height_weight.txt', 'info.txt', 'population_number.csv', 'python_chapter2.ipynb', 'python_chapter3.ipynb', 'python_chapter4.ipynb', 'python_chapter5.ipynb', 'python_chapter6.ipynb', 'python_chapter7.ipynb', 'ratings.txt', 'save', 'score.csv', '__pycache__', '파이썬 기초.ipynb']\n",
      "\n",
      "# 폴더와 파일 구분하기\n",
      "폴더 :  .ipynb_checkpoints\n",
      "파일 :  0120~0121_Numpy.ipynb\n",
      "파일 :  0122_pandas.ipynb\n",
      "파일 :  0131_study_문제.ipynb\n",
      "파일 :  baekjun_0124.ipynb\n",
      "파일 :  basic.txt\n",
      "파일 :  exam_01.ipynb\n",
      "파일 :  exam_02.ipynb\n",
      "파일 :  exam_03.ipynb\n",
      "파일 :  exam_03_copy.py\n",
      "파일 :  exam_04.ipynb\n",
      "파일 :  Flask_server.ipynb\n",
      "파일 :  game.ipynb\n",
      "파일 :  height_weight.txt\n",
      "파일 :  info.txt\n",
      "파일 :  population_number.csv\n",
      "파일 :  python_chapter2.ipynb\n",
      "파일 :  python_chapter3.ipynb\n",
      "파일 :  python_chapter4.ipynb\n",
      "파일 :  python_chapter5.ipynb\n",
      "파일 :  python_chapter6.ipynb\n",
      "파일 :  python_chapter7.ipynb\n",
      "파일 :  ratings.txt\n",
      "폴더 :  save\n",
      "파일 :  score.csv\n",
      "폴더 :  __pycache__\n",
      "파일 :  파이썬 기초.ipynb\n"
     ]
    }
   ],
   "source": [
    "# 기본코드\n",
    "import os\n",
    "\n",
    "output=os.listdir(\".\")\n",
    "print(\"os.listdir() : {}\".format(output))\n",
    "print()\n",
    "\n",
    "print(\"# 폴더와 파일 구분하기\")\n",
    "for path in output:\n",
    "    if os.path.isdir(path):\n",
    "        print(\"폴더 : \",path)\n",
    "    else:\n",
    "        print(\"파일 : \", path)"
   ]
  },
  {
   "cell_type": "code",
   "execution_count": 12,
   "metadata": {},
   "outputs": [
    {
     "name": "stdout",
     "output_type": "stream",
     "text": [
      "파일 :  0120~0121_Numpy-checkpoint.ipynb\n",
      "파일 :  0122_pandas-checkpoint.ipynb\n",
      "파일 :  0131_study_문제-checkpoint.ipynb\n",
      "파일 :  baekjun_0124-checkpoint.ipynb\n",
      "파일 :  exam_01-checkpoint.ipynb\n",
      "파일 :  exam_02-checkpoint.ipynb\n",
      "파일 :  exam_03-checkpoint.ipynb\n",
      "파일 :  exam_04-checkpoint.ipynb\n",
      "파일 :  Flask_server-checkpoint.ipynb\n",
      "파일 :  game-checkpoint.ipynb\n",
      "파일 :  python_chapter2-checkpoint.ipynb\n",
      "파일 :  python_chapter3-checkpoint.ipynb\n",
      "파일 :  python_chapter4-checkpoint.ipynb\n",
      "파일 :  python_chapter5-checkpoint.ipynb\n",
      "파일 :  python_chapter6-checkpoint.ipynb\n",
      "파일 :  python_chapter7-checkpoint.ipynb\n",
      "파일 :  파이썬 기초-checkpoint.ipynb\n",
      "파일 :  0120~0121_Numpy.ipynb\n",
      "파일 :  0122_pandas.ipynb\n",
      "파일 :  0131_study_문제.ipynb\n",
      "파일 :  baekjun_0124.ipynb\n",
      "파일 :  basic.txt\n",
      "파일 :  exam_01.ipynb\n",
      "파일 :  exam_02.ipynb\n",
      "파일 :  exam_03.ipynb\n",
      "파일 :  exam_03_copy.py\n",
      "파일 :  exam_04.ipynb\n",
      "파일 :  Flask_server.ipynb\n",
      "파일 :  game.ipynb\n",
      "파일 :  height_weight.txt\n",
      "파일 :  info.txt\n",
      "파일 :  population_number.csv\n",
      "파일 :  python_chapter2.ipynb\n",
      "파일 :  python_chapter3.ipynb\n",
      "파일 :  python_chapter4.ipynb\n",
      "파일 :  python_chapter5.ipynb\n",
      "파일 :  python_chapter6.ipynb\n",
      "파일 :  python_chapter7.ipynb\n",
      "파일 :  ratings.txt\n",
      "파일 :  2048.0.state\n",
      "파일 :  2048.score\n",
      "파일 :  score.csv\n",
      "파일 :  exam_03_copy.cpython-38.pyc\n",
      "파일 :  파이썬 기초.ipynb\n"
     ]
    }
   ],
   "source": [
    "# 재귀함수로\n",
    "import os\n",
    "def read_folder(path):\n",
    "    # 폴더 요소 읽기\n",
    "    output=os.listdir(path)\n",
    "    #폴도 요소 구분\n",
    "    for item in output:\n",
    "        if os.path.isdir(item):\n",
    "        # 폴더라면 계속 일기\n",
    "            read_folder(item)\n",
    "        else:\n",
    "            #파일이면 출력\n",
    "            print(\"파일 : \", item)\n",
    "read_folder(\".\")"
   ]
  },
  {
   "cell_type": "markdown",
   "metadata": {},
   "source": [
    "# beautiful_weather.py"
   ]
  },
  {
   "cell_type": "code",
   "execution_count": 13,
   "metadata": {},
   "outputs": [
    {
     "name": "stdout",
     "output_type": "stream",
     "text": [
      "도시 :  서울\n",
      "날씨 :  맑음\n",
      "최저기온 :  -12\n",
      "최고기온 :  -5\n",
      "\n",
      "도시 :  인천\n",
      "날씨 :  맑음\n",
      "최저기온 :  -11\n",
      "최고기온 :  -5\n",
      "\n",
      "도시 :  수원\n",
      "날씨 :  맑음\n",
      "최저기온 :  -12\n",
      "최고기온 :  -4\n",
      "\n",
      "도시 :  파주\n",
      "날씨 :  맑음\n",
      "최저기온 :  -15\n",
      "최고기온 :  -5\n",
      "\n",
      "도시 :  이천\n",
      "날씨 :  맑음\n",
      "최저기온 :  -12\n",
      "최고기온 :  -4\n",
      "\n",
      "도시 :  평택\n",
      "날씨 :  맑음\n",
      "최저기온 :  -9\n",
      "최고기온 :  -4\n",
      "\n",
      "도시 :  춘천\n",
      "날씨 :  맑음\n",
      "최저기온 :  -15\n",
      "최고기온 :  -4\n",
      "\n",
      "도시 :  원주\n",
      "날씨 :  맑음\n",
      "최저기온 :  -13\n",
      "최고기온 :  -4\n",
      "\n",
      "도시 :  강릉\n",
      "날씨 :  맑음\n",
      "최저기온 :  -10\n",
      "최고기온 :  -1\n",
      "\n",
      "도시 :  대전\n",
      "날씨 :  흐림\n",
      "최저기온 :  -8\n",
      "최고기온 :  -1\n",
      "\n",
      "도시 :  세종\n",
      "날씨 :  흐림\n",
      "최저기온 :  -7\n",
      "최고기온 :  -2\n",
      "\n",
      "도시 :  홍성\n",
      "날씨 :  흐림\n",
      "최저기온 :  -9\n",
      "최고기온 :  -3\n",
      "\n",
      "도시 :  청주\n",
      "날씨 :  구름많음\n",
      "최저기온 :  -8\n",
      "최고기온 :  -3\n",
      "\n",
      "도시 :  충주\n",
      "날씨 :  구름많음\n",
      "최저기온 :  -12\n",
      "최고기온 :  -4\n",
      "\n",
      "도시 :  영동\n",
      "날씨 :  구름많음\n",
      "최저기온 :  -8\n",
      "최고기온 :  -1\n",
      "\n",
      "도시 :  광주\n",
      "날씨 :  흐리고 눈\n",
      "최저기온 :  -5\n",
      "최고기온 :  1\n",
      "\n",
      "도시 :  목포\n",
      "날씨 :  흐리고 눈\n",
      "최저기온 :  -3\n",
      "최고기온 :  1\n",
      "\n",
      "도시 :  여수\n",
      "날씨 :  흐리고 눈\n",
      "최저기온 :  -4\n",
      "최고기온 :  2\n",
      "\n",
      "도시 :  순천\n",
      "날씨 :  흐리고 눈\n",
      "최저기온 :  -6\n",
      "최고기온 :  1\n",
      "\n",
      "도시 :  광양\n",
      "날씨 :  흐리고 눈\n",
      "최저기온 :  -5\n",
      "최고기온 :  2\n",
      "\n",
      "도시 :  나주\n",
      "날씨 :  흐리고 눈\n",
      "최저기온 :  -4\n",
      "최고기온 :  1\n",
      "\n",
      "도시 :  전주\n",
      "날씨 :  흐리고 눈\n",
      "최저기온 :  -7\n",
      "최고기온 :  0\n",
      "\n",
      "도시 :  군산\n",
      "날씨 :  흐리고 눈\n",
      "최저기온 :  -6\n",
      "최고기온 :  -1\n",
      "\n",
      "도시 :  정읍\n",
      "날씨 :  흐리고 눈\n",
      "최저기온 :  -6\n",
      "최고기온 :  -1\n",
      "\n",
      "도시 :  남원\n",
      "날씨 :  흐리고 눈\n",
      "최저기온 :  -8\n",
      "최고기온 :  -1\n",
      "\n",
      "도시 :  고창\n",
      "날씨 :  흐리고 눈\n",
      "최저기온 :  -5\n",
      "최고기온 :  0\n",
      "\n",
      "도시 :  무주\n",
      "날씨 :  흐리고 눈\n",
      "최저기온 :  -9\n",
      "최고기온 :  -1\n",
      "\n",
      "도시 :  부산\n",
      "날씨 :  맑음\n",
      "최저기온 :  -6\n",
      "최고기온 :  3\n",
      "\n",
      "도시 :  울산\n",
      "날씨 :  맑음\n",
      "최저기온 :  -7\n",
      "최고기온 :  1\n",
      "\n",
      "도시 :  창원\n",
      "날씨 :  맑음\n",
      "최저기온 :  -7\n",
      "최고기온 :  2\n",
      "\n",
      "도시 :  진주\n",
      "날씨 :  맑음\n",
      "최저기온 :  -7\n",
      "최고기온 :  2\n",
      "\n",
      "도시 :  거창\n",
      "날씨 :  맑음\n",
      "최저기온 :  -8\n",
      "최고기온 :  0\n",
      "\n",
      "도시 :  통영\n",
      "날씨 :  맑음\n",
      "최저기온 :  -5\n",
      "최고기온 :  3\n",
      "\n",
      "도시 :  대구\n",
      "날씨 :  맑음\n",
      "최저기온 :  -8\n",
      "최고기온 :  0\n",
      "\n",
      "도시 :  안동\n",
      "날씨 :  맑음\n",
      "최저기온 :  -11\n",
      "최고기온 :  -2\n",
      "\n",
      "도시 :  포항\n",
      "날씨 :  맑음\n",
      "최저기온 :  -8\n",
      "최고기온 :  0\n",
      "\n",
      "도시 :  경주\n",
      "날씨 :  맑음\n",
      "최저기온 :  -9\n",
      "최고기온 :  0\n",
      "\n",
      "도시 :  울진\n",
      "날씨 :  맑음\n",
      "최저기온 :  -8\n",
      "최고기온 :  1\n",
      "\n",
      "도시 :  울릉도\n",
      "날씨 :  맑음\n",
      "최저기온 :  -6\n",
      "최고기온 :  -3\n",
      "\n",
      "도시 :  제주\n",
      "날씨 :  흐리고 눈\n",
      "최저기온 :  2\n",
      "최고기온 :  5\n",
      "\n",
      "도시 :  서귀포\n",
      "날씨 :  흐리고 눈\n",
      "최저기온 :  0\n",
      "최고기온 :  6\n",
      "\n"
     ]
    }
   ],
   "source": [
    "from urllib import request\n",
    "from bs4 import BeautifulSoup\n",
    "\n",
    "target=request.urlopen(\"http://www.kma.go.kr/weather/forecast/mid-term-rss3.jsp?stnId=108\")\n",
    "\n",
    "soup=BeautifulSoup(target,\"html.parser\")\n",
    "\n",
    "for location in soup.select(\"location\"):\n",
    "    print(\"도시 : \", location.select_one(\"city\").string)\n",
    "    print(\"날씨 : \",location.select_one(\"wf\").string)\n",
    "    print(\"최저기온 : \",location.select_one(\"tmn\").string)\n",
    "    print(\"최고기온 : \",location.select_one(\"tmx\").string)\n",
    "    print()"
   ]
  },
  {
   "cell_type": "markdown",
   "metadata": {},
   "source": [
    "# flask_basic.py "
   ]
  },
  {
   "cell_type": "code",
   "execution_count": 15,
   "metadata": {},
   "outputs": [],
   "source": [
    "from flask import Flask\n",
    "app=Flask(__name__)\n",
    "@app.route(\"/\")\n",
    "def hello():\n",
    "    return \"<h1>Hello World!</h1>\""
   ]
  },
  {
   "cell_type": "markdown",
   "metadata": {},
   "source": [
    "# beautiful_flask.py "
   ]
  },
  {
   "cell_type": "code",
   "execution_count": 17,
   "metadata": {},
   "outputs": [],
   "source": [
    "from flask import Flask\n",
    "from urllib import request\n",
    "from bs4 import BeautifulSoup\n",
    "\n",
    "\n",
    "app=Flask(__name__)\n",
    "\n",
    "@app.route(\"/\")\n",
    "def hello():\n",
    "    target=request.urlopen(\"http://www.kma.go.kr/weather/forecast/mid-term-rss3.jsp?stnId=108\")\n",
    "\n",
    "    soup=BeautifulSoup(target,\"html.parser\")\n",
    "    \n",
    "    output=\"\"\n",
    "    \n",
    "    for location in soup.select(\"location\"):\n",
    "        output+=\"<h3>{}</h3>\".format(location.select_one(\"city\").string)\n",
    "        output+=\"날씨 : {}<br/>\".format(location.select_one(\"wf\").string)\n",
    "        output+=\"최저/최고기온 : {}/{}\"\\\n",
    "            .format(\\\n",
    "                    location.select_one(\"tmn\").string,\\\n",
    "                   location.select_one(\"tmx\").string\\\n",
    "                   )\n",
    "        output +=\"<hr/>\"\n",
    "    return output\n"
   ]
  },
  {
   "cell_type": "markdown",
   "metadata": {},
   "source": [
    "# func_deco.py"
   ]
  },
  {
   "cell_type": "code",
   "execution_count": 18,
   "metadata": {},
   "outputs": [
    {
     "name": "stdout",
     "output_type": "stream",
     "text": [
      "인사가 시작되었습니다.\n",
      "hello\n",
      "인사가 종료되었습니다.\n"
     ]
    }
   ],
   "source": [
    "def test(function):\n",
    "    def wrapper():\n",
    "        print(\"인사가 시작되었습니다.\")\n",
    "        function()\n",
    "        print(\"인사가 종료되었습니다.\")\n",
    "    return wrapper\n",
    "\n",
    "@test\n",
    "def hello():\n",
    "    print(\"hello\")\n",
    "    \n",
    "hello()"
   ]
  },
  {
   "cell_type": "markdown",
   "metadata": {},
   "source": [
    "#  7.2\n"
   ]
  },
  {
   "cell_type": "code",
   "execution_count": 19,
   "metadata": {},
   "outputs": [
    {
     "ename": "ModuleNotFoundError",
     "evalue": "No module named 'primenumbers'",
     "output_type": "error",
     "traceback": [
      "\u001b[1;31m---------------------------------------------------------------------------\u001b[0m",
      "\u001b[1;31mModuleNotFoundError\u001b[0m                       Traceback (most recent call last)",
      "\u001b[1;32m<ipython-input-19-c27cd106e03c>\u001b[0m in \u001b[0;36m<module>\u001b[1;34m\u001b[0m\n\u001b[1;32m----> 1\u001b[1;33m \u001b[1;32mimport\u001b[0m \u001b[0mprimenumbers\u001b[0m\u001b[1;33m\u001b[0m\u001b[1;33m\u001b[0m\u001b[0m\n\u001b[0m\u001b[0;32m      2\u001b[0m \u001b[0mprimenumbers\u001b[0m\u001b[1;33m.\u001b[0m\u001b[0mall_PrimeNumbers_inRange\u001b[0m\u001b[1;33m(\u001b[0m\u001b[1;36m100\u001b[0m\u001b[1;33m,\u001b[0m\u001b[1;36m1000\u001b[0m\u001b[1;33m)\u001b[0m\u001b[1;33m\u001b[0m\u001b[1;33m\u001b[0m\u001b[0m\n",
      "\u001b[1;31mModuleNotFoundError\u001b[0m: No module named 'primenumbers'"
     ]
    }
   ],
   "source": [
    "## 설치해야함\n",
    "import primenumbers\n",
    "primenumbers.all_PrimeNumbers_inRange(100,1000)"
   ]
  },
  {
   "cell_type": "code",
   "execution_count": 23,
   "metadata": {},
   "outputs": [
    {
     "data": {
      "text/plain": [
       "[2,\n",
       " 3,\n",
       " 5,\n",
       " 7,\n",
       " 11,\n",
       " 13,\n",
       " 17,\n",
       " 19,\n",
       " 23,\n",
       " 29,\n",
       " 31,\n",
       " 37,\n",
       " 41,\n",
       " 43,\n",
       " 47,\n",
       " 53,\n",
       " 59,\n",
       " 61,\n",
       " 67,\n",
       " 71,\n",
       " 73,\n",
       " 79,\n",
       " 83,\n",
       " 89,\n",
       " 97,\n",
       " 101,\n",
       " 103,\n",
       " 107,\n",
       " 109,\n",
       " 113,\n",
       " 127,\n",
       " 131,\n",
       " 137,\n",
       " 139,\n",
       " 149,\n",
       " 151,\n",
       " 157,\n",
       " 163,\n",
       " 167,\n",
       " 173,\n",
       " 179,\n",
       " 181,\n",
       " 191,\n",
       " 193,\n",
       " 197,\n",
       " 199,\n",
       " 211,\n",
       " 223,\n",
       " 227,\n",
       " 229,\n",
       " 233,\n",
       " 239,\n",
       " 241,\n",
       " 251,\n",
       " 257,\n",
       " 263,\n",
       " 269,\n",
       " 271,\n",
       " 277,\n",
       " 281,\n",
       " 283,\n",
       " 293,\n",
       " 307,\n",
       " 311,\n",
       " 313,\n",
       " 317,\n",
       " 331,\n",
       " 337,\n",
       " 347,\n",
       " 349,\n",
       " 353,\n",
       " 359,\n",
       " 367,\n",
       " 373,\n",
       " 379,\n",
       " 383,\n",
       " 389,\n",
       " 397,\n",
       " 401,\n",
       " 409,\n",
       " 419,\n",
       " 421,\n",
       " 431,\n",
       " 433,\n",
       " 439,\n",
       " 443,\n",
       " 449,\n",
       " 457,\n",
       " 461,\n",
       " 463,\n",
       " 467,\n",
       " 479,\n",
       " 487,\n",
       " 491,\n",
       " 499,\n",
       " 503,\n",
       " 509,\n",
       " 521,\n",
       " 523,\n",
       " 541,\n",
       " 547,\n",
       " 557,\n",
       " 563,\n",
       " 569,\n",
       " 571,\n",
       " 577,\n",
       " 587,\n",
       " 593,\n",
       " 599,\n",
       " 601,\n",
       " 607,\n",
       " 613,\n",
       " 617,\n",
       " 619,\n",
       " 631,\n",
       " 641,\n",
       " 643,\n",
       " 647,\n",
       " 653,\n",
       " 659,\n",
       " 661,\n",
       " 673,\n",
       " 677,\n",
       " 683,\n",
       " 691,\n",
       " 701,\n",
       " 709,\n",
       " 719,\n",
       " 727,\n",
       " 733,\n",
       " 739,\n",
       " 743,\n",
       " 751,\n",
       " 757,\n",
       " 761,\n",
       " 769,\n",
       " 773,\n",
       " 787,\n",
       " 797,\n",
       " 809,\n",
       " 811,\n",
       " 821,\n",
       " 823,\n",
       " 827,\n",
       " 829,\n",
       " 839,\n",
       " 853,\n",
       " 857,\n",
       " 859,\n",
       " 863,\n",
       " 877,\n",
       " 881,\n",
       " 883,\n",
       " 887,\n",
       " 907,\n",
       " 911,\n",
       " 919,\n",
       " 929,\n",
       " 937,\n",
       " 941,\n",
       " 947,\n",
       " 953,\n",
       " 967,\n",
       " 971,\n",
       " 977,\n",
       " 983,\n",
       " 991,\n",
       " 997]"
      ]
     },
     "execution_count": 23,
     "metadata": {},
     "output_type": "execute_result"
    }
   ],
   "source": [
    "primes=[]\n",
    "for i in range(2,1000):\n",
    "    is_prime=True\n",
    "    for j in range(2,i):\n",
    "        if i%j ==0:\n",
    "            is_prime=False\n",
    "    if is_prime==True:\n",
    "        primes= primes + [i]\n",
    "\n",
    "primes"
   ]
  },
  {
   "cell_type": "markdown",
   "metadata": {},
   "source": [
    "# 모듈만들기는 vs에서\n"
   ]
  },
  {
   "cell_type": "code",
   "execution_count": null,
   "metadata": {},
   "outputs": [],
   "source": []
  },
  {
   "cell_type": "code",
   "execution_count": null,
   "metadata": {},
   "outputs": [],
   "source": []
  },
  {
   "cell_type": "code",
   "execution_count": null,
   "metadata": {},
   "outputs": [],
   "source": []
  }
 ],
 "metadata": {
  "kernelspec": {
   "display_name": "Python 3",
   "language": "python",
   "name": "python3"
  },
  "language_info": {
   "codemirror_mode": {
    "name": "ipython",
    "version": 3
   },
   "file_extension": ".py",
   "mimetype": "text/x-python",
   "name": "python",
   "nbconvert_exporter": "python",
   "pygments_lexer": "ipython3",
   "version": "3.8.3"
  }
 },
 "nbformat": 4,
 "nbformat_minor": 4
}
