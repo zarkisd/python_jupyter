{
 "cells": [
  {
   "cell_type": "markdown",
   "metadata": {},
   "source": [
    "# 1\n",
    "### 홀만 출력하세요\n",
    "### string = \"홀짝홀짝홀짝홀짝홀짝\""
   ]
  },
  {
   "cell_type": "code",
   "execution_count": 4,
   "metadata": {},
   "outputs": [
    {
     "name": "stdout",
     "output_type": "stream",
     "text": [
      "홀홀홀홀홀\n"
     ]
    }
   ],
   "source": [
    "string = \"홀짝홀짝홀짝홀짝홀짝\"\n",
    "print(string[::2])\n"
   ]
  },
  {
   "cell_type": "markdown",
   "metadata": {},
   "source": [
    "# 2\n",
    "### 민희는 아이스크림을 먹고 싶어한다\n",
    "### 편의점에 갔는데 아이스크림의 가격과 종류가 다음과 같이 있을 때\n",
    "### icecream = {'탱크보이': 1200, '폴라포': 1200, '빵빠레': 1800, '월드콘': 1500, '메로나': 1000}\n",
    "### 아이스크림 금액의 총합을 출력하세요"
   ]
  },
  {
   "cell_type": "code",
   "execution_count": 2,
   "metadata": {},
   "outputs": [
    {
     "name": "stdout",
     "output_type": "stream",
     "text": [
      "6700\n"
     ]
    }
   ],
   "source": [
    "icecream = {'탱크보이': 1200, '폴라포': 1200, '빵빠레': 1800, '월드콘': 1500, '메로나': 1000}\n",
    "print(sum(icecream.values()))"
   ]
  },
  {
   "cell_type": "markdown",
   "metadata": {},
   "source": [
    "# 3\n",
    "#### 경민은 두 정수 a, b가 주어졌을 때 a와 b 사이에 속한 모든 정수의 합을 리턴하는 함수, solution을 완성하고싶습니다..\n",
    "#### 경민을 도와 함수를 완성시켜주세요~~\n",
    "#### 예를 들어 a = 3, b = 5인 경우, 3 + 4 + 5 = 12이므로 12를 리턴합니다.\n",
    "\n",
    "#### 제한 조건\n",
    "- a와 b가 같은 경우는 둘 중 아무 수나 리턴하세요.\n",
    "- a와 b는 -10,000,000 이상 10,000,000 이하인 정수입니다.\n",
    "- a와 b의 대소관계는 정해져있지 않습니다.\n",
    "\n",
    "#### 문제 a,b=182,340\n",
    "#### 문제의도 : 알고리즘보다는 조건문 사용 방법\n"
   ]
  },
  {
   "cell_type": "code",
   "execution_count": 7,
   "metadata": {},
   "outputs": [
    {
     "name": "stdout",
     "output_type": "stream",
     "text": [
      "41499\n"
     ]
    }
   ],
   "source": [
    "def solution(a, b):\n",
    "    answer = 0\n",
    "    if a>b:\n",
    "        for i in range(b,a+1):\n",
    "            answer+=i\n",
    "    elif a<b:\n",
    "        for i in range(a,b+1):\n",
    "            answer+=i\n",
    "    else:\n",
    "        answer=a\n",
    "    \n",
    "    return answer\n",
    "\n",
    "print(solution(182,340))"
   ]
  },
  {
   "cell_type": "markdown",
   "metadata": {},
   "source": [
    "# 4\n",
    "### 다음 문장으로부터 모음('aeiou')을 제거해주세요\n",
    "### 리스트 내포 사용\n",
    "### (굳이 안해도 되는데 남의 코드 볼때 모르면 안되니까\n",
    "### 또한 가독성 좋다)\n",
    "\n",
    "##### Python is powerful... and fast; plays well with others; runs everywhere; is friendly & easy to learn; is Open.\n"
   ]
  },
  {
   "cell_type": "code",
   "execution_count": 8,
   "metadata": {},
   "outputs": [
    {
     "name": "stdout",
     "output_type": "stream",
     "text": [
      "Pythn s pwrfl... nd fst; plys wll wth thrs; rns vrywhr; s frndly & sy t lrn; s Opn.\n"
     ]
    }
   ],
   "source": [
    "str=\"Python is powerful... and fast; plays well with others; runs everywhere; is friendly & easy to learn; is Open.\"\n",
    "serch = \"aeiou\"\n",
    "result = [i for i in str if i not in serch]\n",
    "print(\"\".join(result))"
   ]
  },
  {
   "cell_type": "markdown",
   "metadata": {},
   "source": [
    "# 5\n",
    "### 1~10까지의 정수를 항목으로 갖는 리스트 객체에서 filter 함수와 람다식을 이용해\n",
    "### 짝수만을 선택한 후, map 함수와 람다식을 이용해 항목의 제곱 값을 갖는 리스트를 반환하는\n",
    "### 프로그램을 작성해주세요\n"
   ]
  },
  {
   "cell_type": "code",
   "execution_count": 1,
   "metadata": {},
   "outputs": [
    {
     "name": "stdout",
     "output_type": "stream",
     "text": [
      "[4, 16, 36, 64, 100]\n"
     ]
    }
   ],
   "source": [
    "lit = []\n",
    "for i in range(1,10+1):\n",
    "    lit.append(i)\n",
    "\n",
    "lit2 = list(filter(lambda x: x%2==0, lit))\n",
    "result = list(map(lambda x: x**2 , lit2))\n",
    "print(result)"
   ]
  },
  {
   "cell_type": "markdown",
   "metadata": {},
   "source": [
    "# 6\n",
    "### 팰린드롬이란 앞으로 읽을 때와 거꾸로 읽을 때 똑같은 단어를 말한다.\n",
    "### 알파벳 소문자로만 이루어진 단어가 주어진다. \n",
    "### 이때, 이 단어가 팰린드롬인지 아닌지 확인하는 프로그램을 작성해주세요\n",
    "### level, noon은 팰린드롬이고, online, judge는 팰린드롬이 아니다.\n",
    "### (간단한 재귀함수 문제 )\n",
    "### (재귀함수로 안풀어도 된다)"
   ]
  },
  {
   "cell_type": "code",
   "execution_count": 10,
   "metadata": {},
   "outputs": [
    {
     "name": "stdout",
     "output_type": "stream",
     "text": [
      "False\n",
      "True\n",
      "level\n",
      "level\n",
      "입력하신 단어는 회문(Palindrome)입니다.\n"
     ]
    }
   ],
   "source": [
    "#1\n",
    "#재귀함수 문제\n",
    "# 1. 먼저 첫글자와 맨 마지막글자 비교\n",
    "# 2. 그 다음에 두번째 글자부터 마지막에서 두번째 글자를 \n",
    "# 다시 함수에 넣기\n",
    "def is_palindrome(word):                           \n",
    "    if len(word) < 2:\n",
    "        return True\n",
    "    if word[0] != word[-1]:\n",
    "        return False\n",
    "    return is_palindrome(word[1:-1])\n",
    "                                    \n",
    "print(is_palindrome('hello'))\n",
    "print(is_palindrome('level'))\n",
    "\n",
    "#2\n",
    "# 반복문을 사용해 처음과 마지막\n",
    "# 두번째와 마지막에서 두번째글자\n",
    "# ... 이렇게 비교\n",
    "def palindrome(t):\n",
    "    for i in range(len(t_str)):\n",
    "        if t_str[i] != t_str[len(t_str)-1-i]:\n",
    "            return False\n",
    "    return True\n",
    " \n",
    "t_str = input()\n",
    "if palindrome(t_str):\n",
    "   print(\"입력하신 단어는 회문(Palindrome)입니다.\")\n",
    "else :\n",
    "   print(\"입력하신 단어는 회문(Palindrome)이 아닙니다.\")\n",
    "\n"
   ]
  },
  {
   "cell_type": "markdown",
   "metadata": {},
   "source": [
    "# 7\n",
    "### 가변형 매개변수를 전달 받아 가장 큰 값을 반환하는 함수를 정의하고,\n",
    "### 결과를 출력하는 프로그램을 작성해주세요\n"
   ]
  },
  {
   "cell_type": "code",
   "execution_count": 8,
   "metadata": {},
   "outputs": [
    {
     "name": "stdout",
     "output_type": "stream",
     "text": [
      "max(3, 5, 4, 1, 8, 10, 2, 51, 24, 11, 3, 9, 10) => 51\n"
     ]
    }
   ],
   "source": [
    "def f(*param):\n",
    "       print(\"max{} => {}\".format(param, max(param)))\n",
    "\n",
    " \n",
    "f(3, 5, 4, 1, 8, 10, 2,51,24,11,3,9,10)"
   ]
  },
  {
   "cell_type": "markdown",
   "metadata": {},
   "source": [
    "# 8\n",
    "## 리스트 내포 기능을 이용하여 1부터 20 사이의 숫자중\n",
    "## 3의 배수가 아니거나 5의 배수가 아닌 숫자들의 제곱 값으로 구성된\n",
    "## 리스트 객체를 출력하는 프로그램을 만들어주세요!!\n",
    "\n",
    "### (여기까지 초중급, 책찾아보면서 할수있게 함\n",
    "### 다음부터 알고리즘 + 중급)\n"
   ]
  },
  {
   "cell_type": "code",
   "execution_count": 7,
   "metadata": {},
   "outputs": [
    {
     "name": "stdout",
     "output_type": "stream",
     "text": [
      "[1, 4, 16, 49, 64, 121, 169, 196, 256, 289, 361]\n"
     ]
    }
   ],
   "source": [
    "list2 = [i*i for i in range(1,20+1) if i%3!=0 and i%5!=0]\n",
    "print(list2)"
   ]
  },
  {
   "cell_type": "markdown",
   "metadata": {},
   "source": [
    "# 9 \n",
    "- 그리디 알고리즘 :\n",
    "- 당장 눈 앞에 보이는 최적의 상황만을 쫓는 알고리즘으로 알고리즘 형태중 가장 단순하다\n",
    "- 무조건 큰 경우대로, 무조건 작은경우대로, 무조건 짧은경우대로 극단적으로 문제에 접근\n",
    "- 각 숫자 자릿수의 합이 3의배수면 전체 숫자는 항상 3의 배수가 된다\n",
    "\n",
    "### 어느 날, 현석은 우연히 길거리에서 양수 N을 보았다. 현석은 30이란 수를 존경하기 때문에, 그는 길거리에서 찾은 수에 포함된 숫자들을 섞어 30의 배수가 되는 가장 큰 수를 만들고 싶어한다.\n",
    "### 현석을 도와 그가 만들고 싶어하는 수를 계산하는 프로그램을 작성해주세요!!\n",
    "### N을 입력받는다. N는 최대 10^5개의 숫자로 구성되어 있으며, 0으로 시작하지 않는다.\n",
    "### 현석이 만들고 싶어하는 수가 존재한다면 그 수를 출력하라. 그 수가 존재하지 않는다면, -1을 출력하라.\n",
    "### 30 -> 30  102 - > 210   2931-> -1   80875542 -> 88755420\n",
    "#### 출처 백준 10610"
   ]
  },
  {
   "cell_type": "code",
   "execution_count": 2,
   "metadata": {},
   "outputs": [
    {
     "name": "stdout",
     "output_type": "stream",
     "text": [
      "숫자 입력 : 8087554230\n",
      "['8', '8', '7', '5', '5', '4', '3', '2', '0', '0']\n",
      "8875543200\n"
     ]
    }
   ],
   "source": [
    "# 단계\n",
    "# 1. 숫자들을 역으로 정렬\n",
    "# 2.    각 숫자 자릿수의 합이 3의배수면 전체 숫자는 항상 3의 배수가 된다\n",
    "# 2_1.  0이 포함되어있는 경우 큰 숫자 순서대로 출력\n",
    "\n",
    "N=input(\"숫자 입력 : \")\n",
    "#역으로 정렬\n",
    "def check(N):\n",
    "    N=sorted(N,reverse=True)\n",
    "    \n",
    "    #sort는 리스트에서만 사용 가능  본체 변형\n",
    "   #sorted는 모든 이터러블 가능     본체 변형 X  새로운 리스트 반환\n",
    "    # reverse()랑 sorted(reverses=True) 비교하기\n",
    "    # 뒤집기랑 역정렬이랑 다르다\n",
    "    sum=0\n",
    "    print(N)\n",
    "    #0없으면 30배수 안됨\n",
    "    if \"0\" not in N:\n",
    "        print(-1)\n",
    "    else:\n",
    "        for i in N:\n",
    "            sum+=int(i)\n",
    "            \n",
    "        if sum%3!=0:\n",
    "            print(-1)\n",
    "        else:\n",
    "            print(\"\".join(N))\n",
    "\n",
    "\n",
    "check(N)"
   ]
  },
  {
   "cell_type": "markdown",
   "metadata": {},
   "source": [
    "# 10\n",
    "- 분할정복 분할 정복법(Divide and Conquer)은 엄청나게 크고 방대한 문제를 조금씩 조금씩 나눠가면서 \n",
    "- 용이하게 풀 수 있는 문제 단위로 나눈 다음 그것들을 다시 합쳐서 해결하자는 개념에서 출발하였다. \n",
    "- 대표적으로는 퀵소트 나 병합정렬이 있다\n",
    "- 보통 재귀함수를 많이 사용한다\n",
    "\n",
    "\n",
    "\n",
    "### 정수 4를 1,2,3의 합으로 나타내는 방법은 총 7가지가 있다\n",
    "### 1+1+1+1\n",
    "### 1+1+2\n",
    "### 1+2+1\n",
    "### 2+1+1\n",
    "### 2+2\n",
    "### 1+3\n",
    "### 3+1\n",
    "### 문제!! 정수 n이 주어졌을때, n을 1,2,3으로 나타내는 방법의 수를 구하는 프로그램을 작성하세요~~\n",
    "#### 제한조건 n은 11보다 작다 (그이상하면 숫자 커짐)\n",
    "### 4 -> 7   7->44 10 -> 274 12-> 927"
   ]
  },
  {
   "cell_type": "code",
   "execution_count": null,
   "metadata": {},
   "outputs": [],
   "source": [
    "# 풀이\n",
    "# 생각해야하는 점은 1,2,3 으로만 만들기\n",
    "# 즉 n을 만들기 위해 무조건 1,2,3더해야 한다.\n",
    "# 4의 경우를 생각해보면 (마지막에 더하는 수로 정렬해보기)\n",
    "# 1+1+1+1\n",
    "# 1+2+1\n",
    "# 2+1+1\n",
    "# 3+1\n",
    "\n",
    "# 1+1+2\n",
    "# 2+2\n",
    "\n",
    "# 1+3\n",
    "\n",
    "# 제일 마지막에 더하는게 1인 경우 4\n",
    "# 2인 경우 2\n",
    "# 3딘 경우 1\n",
    "\n",
    "# 1인경우를 볼때 마지막 1을 제외 하면\n",
    "# 1+1+1, 1+2, 2+1, 3 3을만드는 경우의 수와 같다\n",
    "# 마찬가지로 마지막이 2인 경우도 마지막을 제외하면 2를 만드는 경우의 수와 같다\n",
    "\n",
    "# 재귀는 N에서 1로 가고\n",
    "# 귀납은 1에서 N으로 간다\n",
    "# 도미노 생각해보자\n",
    "\n",
    "\n",
    "Num=int(input(\"정수 입력 : \"))\n",
    "\n",
    "def f(n):\n",
    "    if n==1:\n",
    "        return 1\n",
    "    elif n==2:\n",
    "        return 2\n",
    "    elif n==3:\n",
    "        return 4\n",
    "    else:\n",
    "        return f(n-1)+f(n-2)+f(n-3)\n",
    "\n",
    "print(f(Num))\n",
    "    "
   ]
  },
  {
   "cell_type": "code",
   "execution_count": null,
   "metadata": {},
   "outputs": [],
   "source": []
  },
  {
   "cell_type": "code",
   "execution_count": null,
   "metadata": {},
   "outputs": [],
   "source": []
  },
  {
   "cell_type": "code",
   "execution_count": null,
   "metadata": {},
   "outputs": [],
   "source": []
  },
  {
   "cell_type": "code",
   "execution_count": null,
   "metadata": {},
   "outputs": [],
   "source": []
  },
  {
   "cell_type": "markdown",
   "metadata": {},
   "source": [
    "# 문제  폐기\n",
    "\n",
    "### 1000까지의 소수의 개수를 구하시오\n",
    "### hint : 에라토스테네스의체\n",
    "### (기초 알고리즘)\n",
    "### 모듈 있긴한데 알고리즘으로 풀어주셨으면 합니다....\n"
   ]
  },
  {
   "cell_type": "markdown",
   "metadata": {},
   "source": [
    "- 다음의 결과와 같이 구구단 2단부터 9단의 결과값 중에 3의 배수거나 7의 배수인 수를\n",
    "\n",
    "- 제외한 값을 리스트 객체 result 안에 각 단마다 리스트를 만들어 삽입하고 이를 출력하십시오."
   ]
  },
  {
   "cell_type": "markdown",
   "metadata": {},
   "source": [
    "# 포맷팅문제\n",
    "- 트리 모양 만드세요"
   ]
  },
  {
   "cell_type": "code",
   "execution_count": 17,
   "metadata": {
    "scrolled": true
   },
   "outputs": [
    {
     "name": "stdout",
     "output_type": "stream",
     "text": [
      "                                       *                                        \n",
      "                                       **                                       \n",
      "                                      ***                                       \n",
      "                                      ****                                      \n",
      "                                     *****                                      \n",
      "                                     ******                                     \n",
      "                                    *******                                     \n",
      "                                    ********                                    \n",
      "                                   *********                                    \n",
      "                                   **********                                   \n",
      "                                  ***********                                   \n",
      "                                  ************                                  \n",
      "                                 *************                                  \n",
      "                                 **************                                 \n",
      "                                ***************                                 \n",
      "                                ****************                                \n",
      "                               *****************                                \n",
      "                               ******************                               \n",
      "                              *******************                               \n",
      "                              ********************                              \n",
      "                             *********************                              \n",
      "                             **********************                             \n",
      "                            ***********************                             \n",
      "                            ************************                            \n",
      "                           *************************                            \n",
      "                           **************************                           \n",
      "                          ***************************                           \n",
      "                          ****************************                          \n",
      "                         *****************************                          \n",
      "                         ******************************                         \n",
      "                        *******************************                         \n",
      "                        ********************************                        \n",
      "                       *********************************                        \n",
      "                       **********************************                       \n",
      "                      ***********************************                       \n",
      "                      ************************************                      \n",
      "                     *************************************                      \n",
      "                     **************************************                     \n",
      "                    ***************************************                     \n",
      "                    ****************************************                    \n",
      "                   *****************************************                    \n",
      "                   ******************************************                   \n",
      "                  *******************************************                   \n",
      "                  ********************************************                  \n",
      "                 *********************************************                  \n",
      "                 **********************************************                 \n",
      "                ***********************************************                 \n",
      "                ************************************************                \n",
      "               *************************************************                \n",
      "               **************************************************               \n"
     ]
    }
   ],
   "source": []
  },
  {
   "cell_type": "markdown",
   "metadata": {},
   "source": [
    "# 1~9 사이의 정수 a를 입력받아 a + aa + aaa + aaaa 의 값을 계산하는 프로그램을 작성하십시오.\n"
   ]
  },
  {
   "cell_type": "markdown",
   "metadata": {},
   "source": [
    "#  10진수를 2진수로 변환하는 프로그램을 작성하십시오."
   ]
  },
  {
   "cell_type": "markdown",
   "metadata": {},
   "source": [
    "# 매개변수로 전달된 숫자를 이용해 카운트다운하는 함수 countdown을 정의하고,\n",
    "# countdown(0), countdown(10)을 순서대로 실행하십시오.\n",
    "# 0보다 작거나 같은 인자가 전달되었을 경우 \"카운트다운을 하려면 0보다 큰 입력이 필요합니다.\"를 출력하십시오. "
   ]
  },
  {
   "cell_type": "markdown",
   "metadata": {},
   "source": [
    "# enumerate\n",
    "- student라는 list에 손준호, 오유정, 오경민, 장현석, 김민희, 도한재 입력하고\n",
    "- enumerate를 사용해 각각 이름에 순서를 넣어주는 프로그램 만들어주세요"
   ]
  },
  {
   "cell_type": "markdown",
   "metadata": {},
   "source": [
    "# numpy 모듈을 사용하여 \n",
    "- 1. 10~49까지의 수를 가지고 있는 리스트를 출력하세요\n",
    "- 2. 역으로 출력하세요"
   ]
  },
  {
   "cell_type": "code",
   "execution_count": null,
   "metadata": {},
   "outputs": [],
   "source": []
  },
  {
   "cell_type": "code",
   "execution_count": null,
   "metadata": {},
   "outputs": [],
   "source": []
  },
  {
   "cell_type": "code",
   "execution_count": null,
   "metadata": {},
   "outputs": [],
   "source": []
  }
 ],
 "metadata": {
  "kernelspec": {
   "display_name": "Python 3",
   "language": "python",
   "name": "python3"
  },
  "language_info": {
   "codemirror_mode": {
    "name": "ipython",
    "version": 3
   },
   "file_extension": ".py",
   "mimetype": "text/x-python",
   "name": "python",
   "nbconvert_exporter": "python",
   "pygments_lexer": "ipython3",
   "version": "3.8.3"
  }
 },
 "nbformat": 4,
 "nbformat_minor": 4
}
